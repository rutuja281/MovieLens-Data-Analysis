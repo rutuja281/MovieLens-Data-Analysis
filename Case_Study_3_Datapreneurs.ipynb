{
 "cells": [
  {
   "cell_type": "markdown",
   "metadata": {
    "id": "5ePO4WDy9Ncs"
   },
   "source": [
    "# Case Study 3 : Analyzing data from MovieLens\n",
    "\n",
    "**Due Date: Due Date: November 2, by 5:59pm**\n"
   ]
  },
  {
   "cell_type": "markdown",
   "metadata": {
    "id": "ea5aDJBE9Nc7"
   },
   "source": [
    "## The MovieLens data sets\n",
    "\n",
    "\n",
    "http://grouplens.org/datasets/movielens/\n",
    "\n"
   ]
  },
  {
   "cell_type": "code",
   "execution_count": null,
   "metadata": {
    "id": "szWd_by_9Nc7"
   },
   "outputs": [],
   "source": [
    "from IPython.lib.display import YouTubeVideo"
   ]
  },
  {
   "cell_type": "code",
   "execution_count": null,
   "metadata": {
    "colab": {
     "base_uri": "https://localhost:8080/",
     "height": 322
    },
    "id": "biynsm-_9Nc8",
    "outputId": "c706401f-b265-464a-9245-4b9f529ddc63"
   },
   "outputs": [
    {
     "data": {
      "image/jpeg": "[encoded data removed]",
      "text/html": [
       "\n",
       "        <iframe\n",
       "            width=\"400\"\n",
       "            height=\"300\"\n",
       "            src=\"https://www.youtube.com/embed/4tW9HY0Q460\"\n",
       "            frameborder=\"0\"\n",
       "            allowfullscreen\n",
       "            \n",
       "        ></iframe>\n",
       "        "
      ],
      "text/plain": [
       "<IPython.lib.display.YouTubeVideo at 0x7959da7e0d30>"
      ]
     },
     "execution_count": 2,
     "metadata": {},
     "output_type": "execute_result"
    }
   ],
   "source": [
    "YouTubeVideo('4tW9HY0Q460')"
   ]
  },
  {
   "cell_type": "markdown",
   "metadata": {
    "id": "Efng1aJW9Nc9"
   },
   "source": [
    "**TEAM Members:**\n",
    "\n",
    "Please EDIT this cell and add the names of all the team members in your team:\n",
    "\n",
    "    1. member 1\n",
    "    \n",
    "    2. member 2\n",
    "    \n",
    "    3. ...\n",
    "\n",
    " **Give your group a name**. For example: ***Data Detectives***"
   ]
  },
  {
   "cell_type": "markdown",
   "metadata": {
    "id": "vlPcTkla9Nc9"
   },
   "source": [
    "**Desired outcome of the case study.**\n",
    "* In this case study we will look at the MovieLens 1M Data Set.\n",
    "    * It contains data about users and how they rate movies.\n",
    "* The idea is to *analyze* the data set, make *conjectures*, support or refute those conjectures with *data*, and *tell a story* about the data!\n",
    "    \n",
    "**Required Readings:**\n",
    "* Chapter 2 (only the section on the MovieLens 1M Data Set), Chapter 5, Chapter 6,\n",
    "and Chapter 8 of the book [Python for Data Analysis](http://shop.oreilly.com/product/0636920023784.do)  (available from the WPI library as an e-book).\n",
    "* If you want your code to be really compact then you might want to also look into the pivot_table method of Panda's DataFrame, though there are many other ways to complete the case study!\n",
    "\n",
    "\n"
   ]
  },
  {
   "cell_type": "markdown",
   "metadata": {
    "id": "H4xD9ESB9Nc9"
   },
   "source": [
    "# Problem 1 (20 points total):\n",
    "\n",
    "## (10 points) Importing the MovieLens data set and merging it into a single Pandas DataFrame"
   ]
  },
  {
   "cell_type": "markdown",
   "metadata": {
    "id": "kQ0TPGN79Nc9"
   },
   "source": [
    "* Download the 1 million ratings data set from http://grouplens.org/datasets/movielens/ (though if you are feeling adventerous you can download the 10 million ratings file instead)\n",
    "* Merge all of the data into a single Pandas DataFrame\n",
    "* Store the data into an HDF5 file.\n",
    "\n",
    "## (10 points) Report some basic details of the data you collected.  For example:\n",
    "\n",
    "*  How many movies have an average rating over 4.5 overall?\n",
    "*  How many movies have an average rating over 4.5 among men?  How about women?\n",
    "*  How many movies have an *median* rating over 4.5 among men over age 30?  How about women over age 30?\n",
    "*  What are the ten most popular movies?\n",
    "    * Choose what you consider to be a reasonable defintion of \"popular\".\n",
    "    * Be perpared to defend this choice.\n",
    "*  Make some conjectures about how easy various groups are to please? Support your answers with data!  \n",
    "    *  For example, one might conjecture that people between the ages of 1 and 10 are the easiest to please since they are all young children.  This conjecture may or may not be true, but how would you support or disprove either conclusion with with data?\n",
    "    *  Be sure to come up with your own conjectures and support them with data!\n"
   ]
  },
  {
   "cell_type": "code",
   "execution_count": null,
   "metadata": {
    "id": "x234vdnoqRBC"
   },
   "outputs": [],
   "source": []
  },
  {
   "cell_type": "code",
   "execution_count": null,
   "metadata": {
    "id": "ykxdCArW3_ix"
   },
   "outputs": [],
   "source": [
    "import csv\n",
    "\n",
    "with open(r\"C:\\Users\\rutuj\\Downloads\\ml-1m\\ml-1m\\users.dat\", 'r') as dat_file:\n",
    "    with open('users.csv', 'w', newline='') as csv_file:\n",
    "        csv_writer = csv.writer(csv_file)\n",
    "        for row in dat_file:\n",
    "            row = [value.strip() for value in row.replace('::', ',').split(',')]\n",
    "            csv_writer.writerow(row)"
   ]
  },
  {
   "cell_type": "code",
   "execution_count": null,
   "metadata": {
    "id": "QSTGcvvR3_iy"
   },
   "outputs": [],
   "source": [
    "with open(r\"C:\\Users\\rutuj\\Downloads\\ml-1m\\ml-1m\\movies.dat\", 'r') as dat_file:\n",
    "    with open('movies_new.csv', 'w', newline='') as csv_file:\n",
    "        csv_writer = csv.writer(csv_file)\n",
    "        for row in dat_file:\n",
    "            # Replace both '::' and '|' with a comma and then split by a comma\n",
    "            row = [value.strip() for value in row.replace(',', ' ').replace('::',',').split(',')]\n",
    "\n",
    "            csv_writer.writerow(row)\n"
   ]
  },
  {
   "cell_type": "code",
   "execution_count": null,
   "metadata": {
    "id": "3COr103b3_iy"
   },
   "outputs": [],
   "source": [
    "with open(r\"C:\\Users\\rutuj\\Downloads\\ml-1m\\ml-1m\\ratings.dat\", 'r') as dat_file:\n",
    "    with open('ratings.csv', 'w', newline='') as csv_file:\n",
    "        csv_writer = csv.writer(csv_file)\n",
    "        for row in dat_file:\n",
    "            # Replace both '::' and '|' with a comma and then split by a comma\n",
    "            row = [value.strip() for value in row.replace('::', ',').split(',')]\n",
    "            csv_writer.writerow(row)\n"
   ]
  },
  {
   "cell_type": "code",
   "execution_count": null,
   "metadata": {
    "id": "wtGMj-Ws3_i0"
   },
   "outputs": [],
   "source": [
    "import pandas as pd\n",
    "users= pd.read_csv(r\"C:\\Users\\rutuj\\Downloads\\users.csv\")\n"
   ]
  },
  {
   "cell_type": "code",
   "execution_count": null,
   "metadata": {
    "id": "HpF78Sak3_i2"
   },
   "outputs": [],
   "source": [
    "movies= pd.read_csv(r\"C:\\Users\\rutuj\\Downloads\\movies.csv\" ,encoding='latin-1')\n"
   ]
  },
  {
   "cell_type": "code",
   "execution_count": null,
   "metadata": {
    "id": "eqQFV2kS3_i3",
    "outputId": "96fc7ad8-7b84-4fe5-fbd1-3bd656fc98c1"
   },
   "outputs": [
    {
     "data": {
      "text/html": [
       "<div>\n",
       "<style scoped>\n",
       "    .dataframe tbody tr th:only-of-type {\n",
       "        vertical-align: middle;\n",
       "    }\n",
       "\n",
       "    .dataframe tbody tr th {\n",
       "        vertical-align: top;\n",
       "    }\n",
       "\n",
       "    .dataframe thead th {\n",
       "        text-align: right;\n",
       "    }\n",
       "</style>\n",
       "<table border=\"1\" class=\"dataframe\">\n",
       "  <thead>\n",
       "    <tr style=\"text-align: right;\">\n",
       "      <th></th>\n",
       "      <th>1</th>\n",
       "      <th>1193</th>\n",
       "      <th>5</th>\n",
       "      <th>978300760</th>\n",
       "    </tr>\n",
       "  </thead>\n",
       "  <tbody>\n",
       "    <tr>\n",
       "      <th>0</th>\n",
       "      <td>1</td>\n",
       "      <td>661</td>\n",
       "      <td>3</td>\n",
       "      <td>978302109</td>\n",
       "    </tr>\n",
       "    <tr>\n",
       "      <th>1</th>\n",
       "      <td>1</td>\n",
       "      <td>914</td>\n",
       "      <td>3</td>\n",
       "      <td>978301968</td>\n",
       "    </tr>\n",
       "    <tr>\n",
       "      <th>2</th>\n",
       "      <td>1</td>\n",
       "      <td>3408</td>\n",
       "      <td>4</td>\n",
       "      <td>978300275</td>\n",
       "    </tr>\n",
       "    <tr>\n",
       "      <th>3</th>\n",
       "      <td>1</td>\n",
       "      <td>2355</td>\n",
       "      <td>5</td>\n",
       "      <td>978824291</td>\n",
       "    </tr>\n",
       "    <tr>\n",
       "      <th>4</th>\n",
       "      <td>1</td>\n",
       "      <td>1197</td>\n",
       "      <td>3</td>\n",
       "      <td>978302268</td>\n",
       "    </tr>\n",
       "    <tr>\n",
       "      <th>...</th>\n",
       "      <td>...</td>\n",
       "      <td>...</td>\n",
       "      <td>...</td>\n",
       "      <td>...</td>\n",
       "    </tr>\n",
       "    <tr>\n",
       "      <th>1000203</th>\n",
       "      <td>6040</td>\n",
       "      <td>1091</td>\n",
       "      <td>1</td>\n",
       "      <td>956716541</td>\n",
       "    </tr>\n",
       "    <tr>\n",
       "      <th>1000204</th>\n",
       "      <td>6040</td>\n",
       "      <td>1094</td>\n",
       "      <td>5</td>\n",
       "      <td>956704887</td>\n",
       "    </tr>\n",
       "    <tr>\n",
       "      <th>1000205</th>\n",
       "      <td>6040</td>\n",
       "      <td>562</td>\n",
       "      <td>5</td>\n",
       "      <td>956704746</td>\n",
       "    </tr>\n",
       "    <tr>\n",
       "      <th>1000206</th>\n",
       "      <td>6040</td>\n",
       "      <td>1096</td>\n",
       "      <td>4</td>\n",
       "      <td>956715648</td>\n",
       "    </tr>\n",
       "    <tr>\n",
       "      <th>1000207</th>\n",
       "      <td>6040</td>\n",
       "      <td>1097</td>\n",
       "      <td>4</td>\n",
       "      <td>956715569</td>\n",
       "    </tr>\n",
       "  </tbody>\n",
       "</table>\n",
       "<p>1000208 rows × 4 columns</p>\n",
       "</div>"
      ],
      "text/plain": [
       "            1  1193  5  978300760\n",
       "0           1   661  3  978302109\n",
       "1           1   914  3  978301968\n",
       "2           1  3408  4  978300275\n",
       "3           1  2355  5  978824291\n",
       "4           1  1197  3  978302268\n",
       "...       ...   ... ..        ...\n",
       "1000203  6040  1091  1  956716541\n",
       "1000204  6040  1094  5  956704887\n",
       "1000205  6040   562  5  956704746\n",
       "1000206  6040  1096  4  956715648\n",
       "1000207  6040  1097  4  956715569\n",
       "\n",
       "[1000208 rows x 4 columns]"
      ]
     },
     "execution_count": 8,
     "metadata": {},
     "output_type": "execute_result"
    }
   ],
   "source": [
    "ratings=pd.read_csv(r\"C:\\Users\\rutuj\\Downloads\\ratings.csv\" )\n",
    "ratings"
   ]
  },
  {
   "cell_type": "code",
   "execution_count": null,
   "metadata": {
    "id": "YLiHjZmr3_i3",
    "outputId": "e7e8a966-93ca-4ffa-c70a-ebc7ca105d0a"
   },
   "outputs": [
    {
     "data": {
      "text/html": [
       "<div>\n",
       "<style scoped>\n",
       "    .dataframe tbody tr th:only-of-type {\n",
       "        vertical-align: middle;\n",
       "    }\n",
       "\n",
       "    .dataframe tbody tr th {\n",
       "        vertical-align: top;\n",
       "    }\n",
       "\n",
       "    .dataframe thead th {\n",
       "        text-align: right;\n",
       "    }\n",
       "</style>\n",
       "<table border=\"1\" class=\"dataframe\">\n",
       "  <thead>\n",
       "    <tr style=\"text-align: right;\">\n",
       "      <th></th>\n",
       "      <th>MovieID</th>\n",
       "      <th>Title</th>\n",
       "      <th>Genres</th>\n",
       "    </tr>\n",
       "  </thead>\n",
       "  <tbody>\n",
       "    <tr>\n",
       "      <th>0</th>\n",
       "      <td>2</td>\n",
       "      <td>Jumanji (1995)</td>\n",
       "      <td>Adventure|Children's|Fantasy</td>\n",
       "    </tr>\n",
       "    <tr>\n",
       "      <th>1</th>\n",
       "      <td>3</td>\n",
       "      <td>Grumpier Old Men (1995)</td>\n",
       "      <td>Comedy|Romance</td>\n",
       "    </tr>\n",
       "    <tr>\n",
       "      <th>2</th>\n",
       "      <td>4</td>\n",
       "      <td>Waiting to Exhale (1995)</td>\n",
       "      <td>Comedy|Drama</td>\n",
       "    </tr>\n",
       "    <tr>\n",
       "      <th>3</th>\n",
       "      <td>5</td>\n",
       "      <td>Father of the Bride Part II (1995)</td>\n",
       "      <td>Comedy</td>\n",
       "    </tr>\n",
       "    <tr>\n",
       "      <th>4</th>\n",
       "      <td>6</td>\n",
       "      <td>Heat (1995)</td>\n",
       "      <td>Action|Crime|Thriller</td>\n",
       "    </tr>\n",
       "    <tr>\n",
       "      <th>...</th>\n",
       "      <td>...</td>\n",
       "      <td>...</td>\n",
       "      <td>...</td>\n",
       "    </tr>\n",
       "    <tr>\n",
       "      <th>3877</th>\n",
       "      <td>3948</td>\n",
       "      <td>Meet the Parents (2000)</td>\n",
       "      <td>Comedy</td>\n",
       "    </tr>\n",
       "    <tr>\n",
       "      <th>3878</th>\n",
       "      <td>3949</td>\n",
       "      <td>Requiem for a Dream (2000)</td>\n",
       "      <td>Drama</td>\n",
       "    </tr>\n",
       "    <tr>\n",
       "      <th>3879</th>\n",
       "      <td>3950</td>\n",
       "      <td>Tigerland (2000)</td>\n",
       "      <td>Drama</td>\n",
       "    </tr>\n",
       "    <tr>\n",
       "      <th>3880</th>\n",
       "      <td>3951</td>\n",
       "      <td>Two Family House (2000)</td>\n",
       "      <td>Drama</td>\n",
       "    </tr>\n",
       "    <tr>\n",
       "      <th>3881</th>\n",
       "      <td>3952</td>\n",
       "      <td>Contender  The (2000)</td>\n",
       "      <td>Drama|Thriller</td>\n",
       "    </tr>\n",
       "  </tbody>\n",
       "</table>\n",
       "<p>3882 rows × 3 columns</p>\n",
       "</div>"
      ],
      "text/plain": [
       "      MovieID                               Title  \\\n",
       "0           2                      Jumanji (1995)   \n",
       "1           3             Grumpier Old Men (1995)   \n",
       "2           4            Waiting to Exhale (1995)   \n",
       "3           5  Father of the Bride Part II (1995)   \n",
       "4           6                         Heat (1995)   \n",
       "...       ...                                 ...   \n",
       "3877     3948             Meet the Parents (2000)   \n",
       "3878     3949          Requiem for a Dream (2000)   \n",
       "3879     3950                    Tigerland (2000)   \n",
       "3880     3951             Two Family House (2000)   \n",
       "3881     3952               Contender  The (2000)   \n",
       "\n",
       "                            Genres  \n",
       "0     Adventure|Children's|Fantasy  \n",
       "1                   Comedy|Romance  \n",
       "2                     Comedy|Drama  \n",
       "3                           Comedy  \n",
       "4            Action|Crime|Thriller  \n",
       "...                            ...  \n",
       "3877                        Comedy  \n",
       "3878                         Drama  \n",
       "3879                         Drama  \n",
       "3880                         Drama  \n",
       "3881                Drama|Thriller  \n",
       "\n",
       "[3882 rows x 3 columns]"
      ]
     },
     "execution_count": 9,
     "metadata": {},
     "output_type": "execute_result"
    }
   ],
   "source": [
    "column_names = ['MovieID', 'Title', 'Genres']\n",
    "movies.columns = column_names\n",
    "movies"
   ]
  },
  {
   "cell_type": "code",
   "execution_count": null,
   "metadata": {
    "id": "Sfkiq4rh3_i3",
    "outputId": "63535ae5-4904-44f2-f883-d5a0d4804b51"
   },
   "outputs": [
    {
     "data": {
      "text/html": [
       "<div>\n",
       "<style scoped>\n",
       "    .dataframe tbody tr th:only-of-type {\n",
       "        vertical-align: middle;\n",
       "    }\n",
       "\n",
       "    .dataframe tbody tr th {\n",
       "        vertical-align: top;\n",
       "    }\n",
       "\n",
       "    .dataframe thead th {\n",
       "        text-align: right;\n",
       "    }\n",
       "</style>\n",
       "<table border=\"1\" class=\"dataframe\">\n",
       "  <thead>\n",
       "    <tr style=\"text-align: right;\">\n",
       "      <th></th>\n",
       "      <th>UserID</th>\n",
       "      <th>Gender</th>\n",
       "      <th>Age</th>\n",
       "      <th>Occupation</th>\n",
       "      <th>Zip Code</th>\n",
       "    </tr>\n",
       "  </thead>\n",
       "  <tbody>\n",
       "    <tr>\n",
       "      <th>0</th>\n",
       "      <td>2</td>\n",
       "      <td>M</td>\n",
       "      <td>56</td>\n",
       "      <td>16</td>\n",
       "      <td>70072</td>\n",
       "    </tr>\n",
       "    <tr>\n",
       "      <th>1</th>\n",
       "      <td>3</td>\n",
       "      <td>M</td>\n",
       "      <td>25</td>\n",
       "      <td>15</td>\n",
       "      <td>55117</td>\n",
       "    </tr>\n",
       "    <tr>\n",
       "      <th>2</th>\n",
       "      <td>4</td>\n",
       "      <td>M</td>\n",
       "      <td>45</td>\n",
       "      <td>7</td>\n",
       "      <td>02460</td>\n",
       "    </tr>\n",
       "    <tr>\n",
       "      <th>3</th>\n",
       "      <td>5</td>\n",
       "      <td>M</td>\n",
       "      <td>25</td>\n",
       "      <td>20</td>\n",
       "      <td>55455</td>\n",
       "    </tr>\n",
       "    <tr>\n",
       "      <th>4</th>\n",
       "      <td>6</td>\n",
       "      <td>F</td>\n",
       "      <td>50</td>\n",
       "      <td>9</td>\n",
       "      <td>55117</td>\n",
       "    </tr>\n",
       "    <tr>\n",
       "      <th>...</th>\n",
       "      <td>...</td>\n",
       "      <td>...</td>\n",
       "      <td>...</td>\n",
       "      <td>...</td>\n",
       "      <td>...</td>\n",
       "    </tr>\n",
       "    <tr>\n",
       "      <th>6034</th>\n",
       "      <td>6036</td>\n",
       "      <td>F</td>\n",
       "      <td>25</td>\n",
       "      <td>15</td>\n",
       "      <td>32603</td>\n",
       "    </tr>\n",
       "    <tr>\n",
       "      <th>6035</th>\n",
       "      <td>6037</td>\n",
       "      <td>F</td>\n",
       "      <td>45</td>\n",
       "      <td>1</td>\n",
       "      <td>76006</td>\n",
       "    </tr>\n",
       "    <tr>\n",
       "      <th>6036</th>\n",
       "      <td>6038</td>\n",
       "      <td>F</td>\n",
       "      <td>56</td>\n",
       "      <td>1</td>\n",
       "      <td>14706</td>\n",
       "    </tr>\n",
       "    <tr>\n",
       "      <th>6037</th>\n",
       "      <td>6039</td>\n",
       "      <td>F</td>\n",
       "      <td>45</td>\n",
       "      <td>0</td>\n",
       "      <td>01060</td>\n",
       "    </tr>\n",
       "    <tr>\n",
       "      <th>6038</th>\n",
       "      <td>6040</td>\n",
       "      <td>M</td>\n",
       "      <td>25</td>\n",
       "      <td>6</td>\n",
       "      <td>11106</td>\n",
       "    </tr>\n",
       "  </tbody>\n",
       "</table>\n",
       "<p>6039 rows × 5 columns</p>\n",
       "</div>"
      ],
      "text/plain": [
       "      UserID Gender  Age  Occupation Zip Code\n",
       "0          2      M   56          16    70072\n",
       "1          3      M   25          15    55117\n",
       "2          4      M   45           7    02460\n",
       "3          5      M   25          20    55455\n",
       "4          6      F   50           9    55117\n",
       "...      ...    ...  ...         ...      ...\n",
       "6034    6036      F   25          15    32603\n",
       "6035    6037      F   45           1    76006\n",
       "6036    6038      F   56           1    14706\n",
       "6037    6039      F   45           0    01060\n",
       "6038    6040      M   25           6    11106\n",
       "\n",
       "[6039 rows x 5 columns]"
      ]
     },
     "execution_count": 10,
     "metadata": {},
     "output_type": "execute_result"
    }
   ],
   "source": [
    "column_names = ['UserID', 'Gender', 'Age','Occupation','Zip Code']\n",
    "users.columns = column_names\n",
    "users"
   ]
  },
  {
   "cell_type": "code",
   "execution_count": null,
   "metadata": {
    "id": "p65Rv-OR3_i4",
    "outputId": "3637b164-e7bc-47ec-96ae-b8d4fc3c40f4"
   },
   "outputs": [
    {
     "data": {
      "text/html": [
       "<div>\n",
       "<style scoped>\n",
       "    .dataframe tbody tr th:only-of-type {\n",
       "        vertical-align: middle;\n",
       "    }\n",
       "\n",
       "    .dataframe tbody tr th {\n",
       "        vertical-align: top;\n",
       "    }\n",
       "\n",
       "    .dataframe thead th {\n",
       "        text-align: right;\n",
       "    }\n",
       "</style>\n",
       "<table border=\"1\" class=\"dataframe\">\n",
       "  <thead>\n",
       "    <tr style=\"text-align: right;\">\n",
       "      <th></th>\n",
       "      <th>UserID</th>\n",
       "      <th>MovieID</th>\n",
       "      <th>Rating</th>\n",
       "      <th>Timestamp</th>\n",
       "    </tr>\n",
       "  </thead>\n",
       "  <tbody>\n",
       "    <tr>\n",
       "      <th>0</th>\n",
       "      <td>1</td>\n",
       "      <td>661</td>\n",
       "      <td>3</td>\n",
       "      <td>978302109</td>\n",
       "    </tr>\n",
       "    <tr>\n",
       "      <th>1</th>\n",
       "      <td>1</td>\n",
       "      <td>914</td>\n",
       "      <td>3</td>\n",
       "      <td>978301968</td>\n",
       "    </tr>\n",
       "    <tr>\n",
       "      <th>2</th>\n",
       "      <td>1</td>\n",
       "      <td>3408</td>\n",
       "      <td>4</td>\n",
       "      <td>978300275</td>\n",
       "    </tr>\n",
       "    <tr>\n",
       "      <th>3</th>\n",
       "      <td>1</td>\n",
       "      <td>2355</td>\n",
       "      <td>5</td>\n",
       "      <td>978824291</td>\n",
       "    </tr>\n",
       "    <tr>\n",
       "      <th>4</th>\n",
       "      <td>1</td>\n",
       "      <td>1197</td>\n",
       "      <td>3</td>\n",
       "      <td>978302268</td>\n",
       "    </tr>\n",
       "    <tr>\n",
       "      <th>...</th>\n",
       "      <td>...</td>\n",
       "      <td>...</td>\n",
       "      <td>...</td>\n",
       "      <td>...</td>\n",
       "    </tr>\n",
       "    <tr>\n",
       "      <th>1000203</th>\n",
       "      <td>6040</td>\n",
       "      <td>1091</td>\n",
       "      <td>1</td>\n",
       "      <td>956716541</td>\n",
       "    </tr>\n",
       "    <tr>\n",
       "      <th>1000204</th>\n",
       "      <td>6040</td>\n",
       "      <td>1094</td>\n",
       "      <td>5</td>\n",
       "      <td>956704887</td>\n",
       "    </tr>\n",
       "    <tr>\n",
       "      <th>1000205</th>\n",
       "      <td>6040</td>\n",
       "      <td>562</td>\n",
       "      <td>5</td>\n",
       "      <td>956704746</td>\n",
       "    </tr>\n",
       "    <tr>\n",
       "      <th>1000206</th>\n",
       "      <td>6040</td>\n",
       "      <td>1096</td>\n",
       "      <td>4</td>\n",
       "      <td>956715648</td>\n",
       "    </tr>\n",
       "    <tr>\n",
       "      <th>1000207</th>\n",
       "      <td>6040</td>\n",
       "      <td>1097</td>\n",
       "      <td>4</td>\n",
       "      <td>956715569</td>\n",
       "    </tr>\n",
       "  </tbody>\n",
       "</table>\n",
       "<p>1000208 rows × 4 columns</p>\n",
       "</div>"
      ],
      "text/plain": [
       "         UserID  MovieID  Rating  Timestamp\n",
       "0             1      661       3  978302109\n",
       "1             1      914       3  978301968\n",
       "2             1     3408       4  978300275\n",
       "3             1     2355       5  978824291\n",
       "4             1     1197       3  978302268\n",
       "...         ...      ...     ...        ...\n",
       "1000203    6040     1091       1  956716541\n",
       "1000204    6040     1094       5  956704887\n",
       "1000205    6040      562       5  956704746\n",
       "1000206    6040     1096       4  956715648\n",
       "1000207    6040     1097       4  956715569\n",
       "\n",
       "[1000208 rows x 4 columns]"
      ]
     },
     "execution_count": 11,
     "metadata": {},
     "output_type": "execute_result"
    }
   ],
   "source": [
    "column_names = ['UserID','MovieID','Rating','Timestamp']\n",
    "ratings.columns = column_names\n",
    "ratings"
   ]
  },
  {
   "cell_type": "code",
   "execution_count": null,
   "metadata": {
    "id": "rHMgbZw63_i4"
   },
   "outputs": [],
   "source": [
    "merged_data = pd.merge(ratings, users, on='UserID', how='inner')\n",
    "merged_data = pd.merge(merged_data, movies, on='MovieID', how='inner')"
   ]
  },
  {
   "cell_type": "code",
   "execution_count": null,
   "metadata": {
    "id": "tjRt42ac3_i4",
    "outputId": "41d48cc3-c7b0-4e4a-9cd5-213af8ea0c76"
   },
   "outputs": [
    {
     "data": {
      "text/html": [
       "<div>\n",
       "<style scoped>\n",
       "    .dataframe tbody tr th:only-of-type {\n",
       "        vertical-align: middle;\n",
       "    }\n",
       "\n",
       "    .dataframe tbody tr th {\n",
       "        vertical-align: top;\n",
       "    }\n",
       "\n",
       "    .dataframe thead th {\n",
       "        text-align: right;\n",
       "    }\n",
       "</style>\n",
       "<table border=\"1\" class=\"dataframe\">\n",
       "  <thead>\n",
       "    <tr style=\"text-align: right;\">\n",
       "      <th></th>\n",
       "      <th>UserID</th>\n",
       "      <th>MovieID</th>\n",
       "      <th>Rating</th>\n",
       "      <th>Timestamp</th>\n",
       "      <th>Gender</th>\n",
       "      <th>Age</th>\n",
       "      <th>Occupation</th>\n",
       "      <th>Zip Code</th>\n",
       "      <th>Title</th>\n",
       "      <th>Genres</th>\n",
       "    </tr>\n",
       "  </thead>\n",
       "  <tbody>\n",
       "    <tr>\n",
       "      <th>0</th>\n",
       "      <td>2</td>\n",
       "      <td>1357</td>\n",
       "      <td>5</td>\n",
       "      <td>978298709</td>\n",
       "      <td>M</td>\n",
       "      <td>56</td>\n",
       "      <td>16</td>\n",
       "      <td>70072</td>\n",
       "      <td>Shine (1996)</td>\n",
       "      <td>Drama|Romance</td>\n",
       "    </tr>\n",
       "    <tr>\n",
       "      <th>1</th>\n",
       "      <td>8</td>\n",
       "      <td>1357</td>\n",
       "      <td>4</td>\n",
       "      <td>978230800</td>\n",
       "      <td>M</td>\n",
       "      <td>25</td>\n",
       "      <td>12</td>\n",
       "      <td>11413</td>\n",
       "      <td>Shine (1996)</td>\n",
       "      <td>Drama|Romance</td>\n",
       "    </tr>\n",
       "    <tr>\n",
       "      <th>2</th>\n",
       "      <td>10</td>\n",
       "      <td>1357</td>\n",
       "      <td>5</td>\n",
       "      <td>978227625</td>\n",
       "      <td>F</td>\n",
       "      <td>35</td>\n",
       "      <td>1</td>\n",
       "      <td>95370</td>\n",
       "      <td>Shine (1996)</td>\n",
       "      <td>Drama|Romance</td>\n",
       "    </tr>\n",
       "    <tr>\n",
       "      <th>3</th>\n",
       "      <td>18</td>\n",
       "      <td>1357</td>\n",
       "      <td>5</td>\n",
       "      <td>978156876</td>\n",
       "      <td>F</td>\n",
       "      <td>18</td>\n",
       "      <td>3</td>\n",
       "      <td>95825</td>\n",
       "      <td>Shine (1996)</td>\n",
       "      <td>Drama|Romance</td>\n",
       "    </tr>\n",
       "    <tr>\n",
       "      <th>4</th>\n",
       "      <td>33</td>\n",
       "      <td>1357</td>\n",
       "      <td>4</td>\n",
       "      <td>978109488</td>\n",
       "      <td>M</td>\n",
       "      <td>45</td>\n",
       "      <td>3</td>\n",
       "      <td>55421</td>\n",
       "      <td>Shine (1996)</td>\n",
       "      <td>Drama|Romance</td>\n",
       "    </tr>\n",
       "    <tr>\n",
       "      <th>...</th>\n",
       "      <td>...</td>\n",
       "      <td>...</td>\n",
       "      <td>...</td>\n",
       "      <td>...</td>\n",
       "      <td>...</td>\n",
       "      <td>...</td>\n",
       "      <td>...</td>\n",
       "      <td>...</td>\n",
       "      <td>...</td>\n",
       "      <td>...</td>\n",
       "    </tr>\n",
       "    <tr>\n",
       "      <th>998075</th>\n",
       "      <td>5949</td>\n",
       "      <td>2198</td>\n",
       "      <td>5</td>\n",
       "      <td>958846401</td>\n",
       "      <td>M</td>\n",
       "      <td>18</td>\n",
       "      <td>17</td>\n",
       "      <td>47901</td>\n",
       "      <td>Modulations (1998)</td>\n",
       "      <td>Documentary</td>\n",
       "    </tr>\n",
       "    <tr>\n",
       "      <th>998076</th>\n",
       "      <td>5675</td>\n",
       "      <td>2703</td>\n",
       "      <td>3</td>\n",
       "      <td>976029116</td>\n",
       "      <td>M</td>\n",
       "      <td>35</td>\n",
       "      <td>14</td>\n",
       "      <td>30030</td>\n",
       "      <td>Broken Vessels (1998)</td>\n",
       "      <td>Drama</td>\n",
       "    </tr>\n",
       "    <tr>\n",
       "      <th>998077</th>\n",
       "      <td>5780</td>\n",
       "      <td>2845</td>\n",
       "      <td>1</td>\n",
       "      <td>958153068</td>\n",
       "      <td>M</td>\n",
       "      <td>18</td>\n",
       "      <td>17</td>\n",
       "      <td>92886</td>\n",
       "      <td>White Boys (1999)</td>\n",
       "      <td>Drama</td>\n",
       "    </tr>\n",
       "    <tr>\n",
       "      <th>998078</th>\n",
       "      <td>5851</td>\n",
       "      <td>3607</td>\n",
       "      <td>5</td>\n",
       "      <td>957756608</td>\n",
       "      <td>F</td>\n",
       "      <td>18</td>\n",
       "      <td>20</td>\n",
       "      <td>55410</td>\n",
       "      <td>One Little Indian (1973)</td>\n",
       "      <td>Comedy|Drama|Western</td>\n",
       "    </tr>\n",
       "    <tr>\n",
       "      <th>998079</th>\n",
       "      <td>5938</td>\n",
       "      <td>2909</td>\n",
       "      <td>4</td>\n",
       "      <td>957273353</td>\n",
       "      <td>M</td>\n",
       "      <td>25</td>\n",
       "      <td>1</td>\n",
       "      <td>35401</td>\n",
       "      <td>Five Wives  Three Secretaries and Me (1998)</td>\n",
       "      <td>Documentary</td>\n",
       "    </tr>\n",
       "  </tbody>\n",
       "</table>\n",
       "<p>998080 rows × 10 columns</p>\n",
       "</div>"
      ],
      "text/plain": [
       "        UserID  MovieID  Rating  Timestamp Gender  Age  Occupation Zip Code  \\\n",
       "0            2     1357       5  978298709      M   56          16    70072   \n",
       "1            8     1357       4  978230800      M   25          12    11413   \n",
       "2           10     1357       5  978227625      F   35           1    95370   \n",
       "3           18     1357       5  978156876      F   18           3    95825   \n",
       "4           33     1357       4  978109488      M   45           3    55421   \n",
       "...        ...      ...     ...        ...    ...  ...         ...      ...   \n",
       "998075    5949     2198       5  958846401      M   18          17    47901   \n",
       "998076    5675     2703       3  976029116      M   35          14    30030   \n",
       "998077    5780     2845       1  958153068      M   18          17    92886   \n",
       "998078    5851     3607       5  957756608      F   18          20    55410   \n",
       "998079    5938     2909       4  957273353      M   25           1    35401   \n",
       "\n",
       "                                              Title                Genres  \n",
       "0                                      Shine (1996)         Drama|Romance  \n",
       "1                                      Shine (1996)         Drama|Romance  \n",
       "2                                      Shine (1996)         Drama|Romance  \n",
       "3                                      Shine (1996)         Drama|Romance  \n",
       "4                                      Shine (1996)         Drama|Romance  \n",
       "...                                             ...                   ...  \n",
       "998075                           Modulations (1998)           Documentary  \n",
       "998076                        Broken Vessels (1998)                 Drama  \n",
       "998077                            White Boys (1999)                 Drama  \n",
       "998078                     One Little Indian (1973)  Comedy|Drama|Western  \n",
       "998079  Five Wives  Three Secretaries and Me (1998)           Documentary  \n",
       "\n",
       "[998080 rows x 10 columns]"
      ]
     },
     "execution_count": 13,
     "metadata": {},
     "output_type": "execute_result"
    }
   ],
   "source": [
    "merged_data"
   ]
  },
  {
   "cell_type": "code",
   "execution_count": null,
   "metadata": {
    "id": "3YfrhxAW3_i4",
    "outputId": "c632b5ca-51cb-4dea-f432-88a61a315b7d"
   },
   "outputs": [
    {
     "name": "stdout",
     "output_type": "stream",
     "text": [
      "Requirement already satisfied: tables in c:\\users\\rutuj\\miniconda3\\lib\\site-packages (3.9.1)\n",
      "Requirement already satisfied: blosc2>=2.2.8 in c:\\users\\rutuj\\miniconda3\\lib\\site-packages (from tables) (2.2.9)\n",
      "Requirement already satisfied: numexpr>=2.6.2 in c:\\users\\rutuj\\miniconda3\\lib\\site-packages (from tables) (2.8.7)\n",
      "Requirement already satisfied: py-cpuinfo in c:\\users\\rutuj\\miniconda3\\lib\\site-packages (from tables) (9.0.0)\n",
      "Requirement already satisfied: numpy>=1.19.0 in c:\\users\\rutuj\\miniconda3\\lib\\site-packages (from tables) (1.24.4)\n",
      "Requirement already satisfied: packaging in c:\\users\\rutuj\\miniconda3\\lib\\site-packages (from tables) (23.2)\n",
      "Requirement already satisfied: py-cpuinfo in c:\\users\\rutuj\\miniconda3\\lib\\site-packages (from tables) (9.0.0)\n",
      "Requirement already satisfied: numpy>=1.19.0 in c:\\users\\rutuj\\miniconda3\\lib\\site-packages (from tables) (1.24.4)\n",
      "Requirement already satisfied: ndindex>=1.4 in c:\\users\\rutuj\\miniconda3\\lib\\site-packages (from blosc2>=2.2.8->tables) (1.7)\n",
      "Requirement already satisfied: msgpack in c:\\users\\rutuj\\miniconda3\\lib\\site-packages (from blosc2>=2.2.8->tables) (1.0.7)\n",
      "Requirement already satisfied: numpy>=1.19.0 in c:\\users\\rutuj\\miniconda3\\lib\\site-packages (from tables) (1.24.4)\n"
     ]
    }
   ],
   "source": [
    "!pip install tables"
   ]
  },
  {
   "cell_type": "code",
   "execution_count": null,
   "metadata": {
    "id": "t9f3RSaW3_i5"
   },
   "outputs": [],
   "source": [
    "merged_data.to_hdf('movielens.h5', key='merged_data', mode='w')"
   ]
  },
  {
   "cell_type": "code",
   "execution_count": null,
   "metadata": {
    "id": "ew9gwTYY3_i5",
    "outputId": "a14b159a-ea5d-465f-d5b5-43c9f6b8bfb5"
   },
   "outputs": [
    {
     "data": {
      "text/plain": [
       "Index(['UserID', 'MovieID', 'Rating', 'Timestamp', 'Gender', 'Age',\n",
       "       'Occupation', 'Zip Code', 'Title', 'Genres'],\n",
       "      dtype='object')"
      ]
     },
     "execution_count": 5,
     "metadata": {},
     "output_type": "execute_result"
    }
   ],
   "source": [
    "movielens_df = pd.read_hdf(r\"C:\\Users\\rutuj\\Downloads\\movielens.h5\", key='merged_data')\n",
    "movielens_df.columns"
   ]
  },
  {
   "cell_type": "code",
   "execution_count": null,
   "metadata": {
    "colab": {
     "base_uri": "https://localhost:8080/"
    },
    "id": "6d3cAuXd9Nc-",
    "outputId": "a18c5e20-fd37-4ed4-b348-674665ee0acb"
   },
   "outputs": [
    {
     "name": "stdout",
     "output_type": "stream",
     "text": [
      "Movies with average rating over 4.5: 21\n",
      "Movies with average rating over 4.5 among men: 23\n",
      "Movies with average rating over 4.5 among women: 51\n",
      "Movies with median rating over 4.5 among men over age 30: 86\n",
      "Movies with median rating over 4.5 among women over age 30: 149\n",
      "Ten most popular movies:\n",
      "Title\n",
      "American Beauty (1999)                                   3428\n",
      "Star Wars: Episode IV - A New Hope (1977)                2990\n",
      "Star Wars: Episode V - The Empire Strikes Back (1980)    2990\n",
      "Star Wars: Episode VI - Return of the Jedi (1983)        2883\n",
      "Jurassic Park (1993)                                     2672\n",
      "Saving Private Ryan (1998)                               2652\n",
      "Terminator 2: Judgment Day (1991)                        2649\n",
      "Matrix  The (1999)                                       2590\n",
      "Back to the Future (1985)                                2582\n",
      "Silence of the Lambs  The (1991)                         2578\n",
      "dtype: int64\n",
      "Average rating by people over 30: 3.65\n",
      "Average rating by people 30 and under: 3.53\n",
      "Conjecture is false: Older people are not necessarily harder to please.\n"
     ]
    }
   ],
   "source": [
    "\n",
    "\n",
    "import pandas as pd\n",
    "import numpy as np\n",
    "\n",
    "# Load the data from the HDF5 file\n",
    "movielens_df = pd.read_hdf('/content/movielens.h5')\n",
    "\n",
    "# Task 1: Movies with an average rating over 4.5\n",
    "average_rating = movielens_df.groupby('Title')['Rating'].mean()\n",
    "movies_above_45 = average_rating[average_rating > 4.5].count()\n",
    "print(f\"Movies with average rating over 4.5: {movies_above_45}\")\n",
    "\n",
    "# Task 2: Movies with an average rating over 4.5 among men and women\n",
    "men_average_rating = movielens_df[movielens_df['Gender'] == 'M'].groupby('Title')['Rating'].mean()\n",
    "men_movies_above_45 = men_average_rating[men_average_rating > 4.5].count()\n",
    "\n",
    "women_average_rating = movielens_df[movielens_df['Gender'] == 'F'].groupby('Title')['Rating'].mean()\n",
    "women_movies_above_45 = women_average_rating[women_average_rating > 4.5].count()\n",
    "\n",
    "print(f\"Movies with average rating over 4.5 among men: {men_movies_above_45}\")\n",
    "print(f\"Movies with average rating over 4.5 among women: {women_movies_above_45}\")\n",
    "\n",
    "# Task 3: Movies with a median rating over 4.5 among men and women over age 30\n",
    "men_median_rating = movielens_df[(movielens_df['Gender'] == 'M') & (movielens_df['Age'] > 30)].groupby('Title')['Rating'].median()\n",
    "men_movies_median_above_45 = men_median_rating[men_median_rating > 4.5].count()\n",
    "\n",
    "women_median_rating = movielens_df[(movielens_df['Gender'] == 'F') & (movielens_df['Age'] > 30)].groupby('Title')['Rating'].median()\n",
    "women_movies_median_above_45 = women_median_rating[women_median_rating > 4.5].count()\n",
    "\n",
    "print(f\"Movies with median rating over 4.5 among men over age 30: {men_movies_median_above_45}\")\n",
    "print(f\"Movies with median rating over 4.5 among women over age 30: {women_movies_median_above_45}\")\n",
    "\n",
    "# Task 4: Ten most popular movies (assuming popularity is determined by the number of ratings)\n",
    "popularity = movielens_df.groupby('Title').size()\n",
    "popular_movies = popularity.sort_values(ascending=False).head(10)\n",
    "print(\"Ten most popular movies:\")\n",
    "print(popular_movies)\n",
    "\n",
    "# Task 5: Conjectures\n",
    "# Conjecture: Older people (age above 30) are harder to please (lower average ratings)\n",
    "older_people_ratings = movielens_df[movielens_df['Age'] > 30]['Rating'].mean()\n",
    "younger_people_ratings = movielens_df[movielens_df['Age'] <= 30]['Rating'].mean()\n",
    "\n",
    "print(f\"Average rating by people over 30: {older_people_ratings:.2f}\")\n",
    "print(f\"Average rating by people 30 and under: {younger_people_ratings:.2f}\")\n",
    "\n",
    "if older_people_ratings < younger_people_ratings:\n",
    "    print(\"Conjecture is true: Older people are harder to please.\")\n",
    "else:\n",
    "    print(\"Conjecture is false: Older people are not necessarily harder to please.\")\n"
   ]
  },
  {
   "cell_type": "markdown",
   "metadata": {
    "id": "yxFmctu39Nc-"
   },
   "source": [
    "# Problem 2 (20 points total): Expand our investigation to histograms\n",
    "\n",
    "**An obvious issue with any inferences drawn from Problem 1 is that we did not consider how many times a movie was rated.**\n",
    "* (2 points) Plot a histogram of the ratings of all movies.\n",
    "* (2 points) Plot a histogram of the *number* of ratings each movie recieved.\n",
    "* (2 points) Plot a histogram of the *average rating* for each movie.\n",
    "* (6 points) Plot a histogram of the *average rating* for movies which are rated more than 100 times.\n",
    "    * What do you observe about the tails of the histogram where you use all the movies versus the one where you only use movies rated more than 100 times?\n",
    "    * Which highly rated movies would you trust are actually good?  Those rated more than 100 times or those rated less than 100 times?\n",
    "* (8 points) Make some conjectures about the distribution of ratings? Support your answers with data!  \n",
    "    *  For example, what age range do you think has more extreme ratings?  Do you think children are more or less likely to rate a movie 1 or 5?\n",
    "    *  Be sure to come up with your own conjectures and support them with data!"
   ]
  },
  {
   "cell_type": "code",
   "execution_count": null,
   "metadata": {
    "id": "dganNMoc9Nc_"
   },
   "outputs": [],
   "source": [
    "#-------------------------------\n",
    "# Your code goes here.\n",
    "# Add as many cells as you need\n",
    "#-------------------------------"
   ]
  },
  {
   "cell_type": "code",
   "execution_count": null,
   "metadata": {
    "id": "jVLbwfp2_RBW"
   },
   "outputs": [],
   "source": []
  },
  {
   "cell_type": "code",
   "execution_count": null,
   "metadata": {
    "id": "kgRjJrS75yss"
   },
   "outputs": [],
   "source": [
    "import seaborn as sns\n",
    "import matplotlib.pyplot as plt"
   ]
  },
  {
   "cell_type": "code",
   "execution_count": null,
   "metadata": {
    "colab": {
     "base_uri": "https://localhost:8080/",
     "height": 206
    },
    "id": "hSb2uhK_5yst",
    "outputId": "d6a887db-d3a3-468e-9ad1-0e701d2a98f7"
   },
   "outputs": [
    {
     "data": {
      "text/html": [
       "\n",
       "  <div id=\"df-cce85ab0-5f12-4654-8e1e-9fdef38beb1e\" class=\"colab-df-container\">\n",
       "    <div>\n",
       "<style scoped>\n",
       "    .dataframe tbody tr th:only-of-type {\n",
       "        vertical-align: middle;\n",
       "    }\n",
       "\n",
       "    .dataframe tbody tr th {\n",
       "        vertical-align: top;\n",
       "    }\n",
       "\n",
       "    .dataframe thead th {\n",
       "        text-align: right;\n",
       "    }\n",
       "</style>\n",
       "<table border=\"1\" class=\"dataframe\">\n",
       "  <thead>\n",
       "    <tr style=\"text-align: right;\">\n",
       "      <th></th>\n",
       "      <th>UserID</th>\n",
       "      <th>MovieID</th>\n",
       "      <th>Rating</th>\n",
       "      <th>Timestamp</th>\n",
       "      <th>Gender</th>\n",
       "      <th>Age</th>\n",
       "      <th>Occupation</th>\n",
       "      <th>Zip Code</th>\n",
       "      <th>Title</th>\n",
       "      <th>Genres</th>\n",
       "    </tr>\n",
       "  </thead>\n",
       "  <tbody>\n",
       "    <tr>\n",
       "      <th>0</th>\n",
       "      <td>2</td>\n",
       "      <td>1357</td>\n",
       "      <td>5</td>\n",
       "      <td>978298709</td>\n",
       "      <td>M</td>\n",
       "      <td>56</td>\n",
       "      <td>16</td>\n",
       "      <td>70072</td>\n",
       "      <td>Shine (1996)</td>\n",
       "      <td>Drama|Romance</td>\n",
       "    </tr>\n",
       "    <tr>\n",
       "      <th>1</th>\n",
       "      <td>8</td>\n",
       "      <td>1357</td>\n",
       "      <td>4</td>\n",
       "      <td>978230800</td>\n",
       "      <td>M</td>\n",
       "      <td>25</td>\n",
       "      <td>12</td>\n",
       "      <td>11413</td>\n",
       "      <td>Shine (1996)</td>\n",
       "      <td>Drama|Romance</td>\n",
       "    </tr>\n",
       "    <tr>\n",
       "      <th>2</th>\n",
       "      <td>10</td>\n",
       "      <td>1357</td>\n",
       "      <td>5</td>\n",
       "      <td>978227625</td>\n",
       "      <td>F</td>\n",
       "      <td>35</td>\n",
       "      <td>1</td>\n",
       "      <td>95370</td>\n",
       "      <td>Shine (1996)</td>\n",
       "      <td>Drama|Romance</td>\n",
       "    </tr>\n",
       "    <tr>\n",
       "      <th>3</th>\n",
       "      <td>18</td>\n",
       "      <td>1357</td>\n",
       "      <td>5</td>\n",
       "      <td>978156876</td>\n",
       "      <td>F</td>\n",
       "      <td>18</td>\n",
       "      <td>3</td>\n",
       "      <td>95825</td>\n",
       "      <td>Shine (1996)</td>\n",
       "      <td>Drama|Romance</td>\n",
       "    </tr>\n",
       "    <tr>\n",
       "      <th>4</th>\n",
       "      <td>33</td>\n",
       "      <td>1357</td>\n",
       "      <td>4</td>\n",
       "      <td>978109488</td>\n",
       "      <td>M</td>\n",
       "      <td>45</td>\n",
       "      <td>3</td>\n",
       "      <td>55421</td>\n",
       "      <td>Shine (1996)</td>\n",
       "      <td>Drama|Romance</td>\n",
       "    </tr>\n",
       "  </tbody>\n",
       "</table>\n",
       "</div>\n",
       "    <div class=\"colab-df-buttons\">\n",
       "\n",
       "  <div class=\"colab-df-container\">\n",
       "    <button class=\"colab-df-convert\" onclick=\"convertToInteractive('df-cce85ab0-5f12-4654-8e1e-9fdef38beb1e')\"\n",
       "            title=\"Convert this dataframe to an interactive table.\"\n",
       "            style=\"display:none;\">\n",
       "\n",
       "  <svg xmlns=\"http://www.w3.org/2000/svg\" height=\"24px\" viewBox=\"0 -960 960 960\">\n",
       "    <path d=\"M120-120v-720h720v720H120Zm60-500h600v-160H180v160Zm220 220h160v-160H400v160Zm0 220h160v-160H400v160ZM180-400h160v-160H180v160Zm440 0h160v-160H620v160ZM180-180h160v-160H180v160Zm440 0h160v-160H620v160Z\"/>\n",
       "  </svg>\n",
       "    </button>\n",
       "\n",
       "  <style>\n",
       "    .colab-df-container {\n",
       "      display:flex;\n",
       "      gap: 12px;\n",
       "    }\n",
       "\n",
       "    .colab-df-convert {\n",
       "      background-color: #E8F0FE;\n",
       "      border: none;\n",
       "      border-radius: 50%;\n",
       "      cursor: pointer;\n",
       "      display: none;\n",
       "      fill: #1967D2;\n",
       "      height: 32px;\n",
       "      padding: 0 0 0 0;\n",
       "      width: 32px;\n",
       "    }\n",
       "\n",
       "    .colab-df-convert:hover {\n",
       "      background-color: #E2EBFA;\n",
       "      box-shadow: 0px 1px 2px rgba(60, 64, 67, 0.3), 0px 1px 3px 1px rgba(60, 64, 67, 0.15);\n",
       "      fill: #174EA6;\n",
       "    }\n",
       "\n",
       "    .colab-df-buttons div {\n",
       "      margin-bottom: 4px;\n",
       "    }\n",
       "\n",
       "    [theme=dark] .colab-df-convert {\n",
       "      background-color: #3B4455;\n",
       "      fill: #D2E3FC;\n",
       "    }\n",
       "\n",
       "    [theme=dark] .colab-df-convert:hover {\n",
       "      background-color: #434B5C;\n",
       "      box-shadow: 0px 1px 3px 1px rgba(0, 0, 0, 0.15);\n",
       "      filter: drop-shadow(0px 1px 2px rgba(0, 0, 0, 0.3));\n",
       "      fill: #FFFFFF;\n",
       "    }\n",
       "  </style>\n",
       "\n",
       "    <script>\n",
       "      const buttonEl =\n",
       "        document.querySelector('#df-cce85ab0-5f12-4654-8e1e-9fdef38beb1e button.colab-df-convert');\n",
       "      buttonEl.style.display =\n",
       "        google.colab.kernel.accessAllowed ? 'block' : 'none';\n",
       "\n",
       "      async function convertToInteractive(key) {\n",
       "        const element = document.querySelector('#df-cce85ab0-5f12-4654-8e1e-9fdef38beb1e');\n",
       "        const dataTable =\n",
       "          await google.colab.kernel.invokeFunction('convertToInteractive',\n",
       "                                                    [key], {});\n",
       "        if (!dataTable) return;\n",
       "\n",
       "        const docLinkHtml = 'Like what you see? Visit the ' +\n",
       "          '<a target=\"_blank\" href=https://colab.research.google.com/notebooks/data_table.ipynb>data table notebook</a>'\n",
       "          + ' to learn more about interactive tables.';\n",
       "        element.innerHTML = '';\n",
       "        dataTable['output_type'] = 'display_data';\n",
       "        await google.colab.output.renderOutput(dataTable, element);\n",
       "        const docLink = document.createElement('div');\n",
       "        docLink.innerHTML = docLinkHtml;\n",
       "        element.appendChild(docLink);\n",
       "      }\n",
       "    </script>\n",
       "  </div>\n",
       "\n",
       "\n",
       "<div id=\"df-3d0bdf6b-97c7-425c-82a8-dbd5efb5a150\">\n",
       "  <button class=\"colab-df-quickchart\" onclick=\"quickchart('df-3d0bdf6b-97c7-425c-82a8-dbd5efb5a150')\"\n",
       "            title=\"Suggest charts.\"\n",
       "            style=\"display:none;\">\n",
       "\n",
       "<svg xmlns=\"http://www.w3.org/2000/svg\" height=\"24px\"viewBox=\"0 0 24 24\"\n",
       "     width=\"24px\">\n",
       "    <g>\n",
       "        <path d=\"M19 3H5c-1.1 0-2 .9-2 2v14c0 1.1.9 2 2 2h14c1.1 0 2-.9 2-2V5c0-1.1-.9-2-2-2zM9 17H7v-7h2v7zm4 0h-2V7h2v10zm4 0h-2v-4h2v4z\"/>\n",
       "    </g>\n",
       "</svg>\n",
       "  </button>\n",
       "\n",
       "<style>\n",
       "  .colab-df-quickchart {\n",
       "      --bg-color: #E8F0FE;\n",
       "      --fill-color: #1967D2;\n",
       "      --hover-bg-color: #E2EBFA;\n",
       "      --hover-fill-color: #174EA6;\n",
       "      --disabled-fill-color: #AAA;\n",
       "      --disabled-bg-color: #DDD;\n",
       "  }\n",
       "\n",
       "  [theme=dark] .colab-df-quickchart {\n",
       "      --bg-color: #3B4455;\n",
       "      --fill-color: #D2E3FC;\n",
       "      --hover-bg-color: #434B5C;\n",
       "      --hover-fill-color: #FFFFFF;\n",
       "      --disabled-bg-color: #3B4455;\n",
       "      --disabled-fill-color: #666;\n",
       "  }\n",
       "\n",
       "  .colab-df-quickchart {\n",
       "    background-color: var(--bg-color);\n",
       "    border: none;\n",
       "    border-radius: 50%;\n",
       "    cursor: pointer;\n",
       "    display: none;\n",
       "    fill: var(--fill-color);\n",
       "    height: 32px;\n",
       "    padding: 0;\n",
       "    width: 32px;\n",
       "  }\n",
       "\n",
       "  .colab-df-quickchart:hover {\n",
       "    background-color: var(--hover-bg-color);\n",
       "    box-shadow: 0 1px 2px rgba(60, 64, 67, 0.3), 0 1px 3px 1px rgba(60, 64, 67, 0.15);\n",
       "    fill: var(--button-hover-fill-color);\n",
       "  }\n",
       "\n",
       "  .colab-df-quickchart-complete:disabled,\n",
       "  .colab-df-quickchart-complete:disabled:hover {\n",
       "    background-color: var(--disabled-bg-color);\n",
       "    fill: var(--disabled-fill-color);\n",
       "    box-shadow: none;\n",
       "  }\n",
       "\n",
       "  .colab-df-spinner {\n",
       "    border: 2px solid var(--fill-color);\n",
       "    border-color: transparent;\n",
       "    border-bottom-color: var(--fill-color);\n",
       "    animation:\n",
       "      spin 1s steps(1) infinite;\n",
       "  }\n",
       "\n",
       "  @keyframes spin {\n",
       "    0% {\n",
       "      border-color: transparent;\n",
       "      border-bottom-color: var(--fill-color);\n",
       "      border-left-color: var(--fill-color);\n",
       "    }\n",
       "    20% {\n",
       "      border-color: transparent;\n",
       "      border-left-color: var(--fill-color);\n",
       "      border-top-color: var(--fill-color);\n",
       "    }\n",
       "    30% {\n",
       "      border-color: transparent;\n",
       "      border-left-color: var(--fill-color);\n",
       "      border-top-color: var(--fill-color);\n",
       "      border-right-color: var(--fill-color);\n",
       "    }\n",
       "    40% {\n",
       "      border-color: transparent;\n",
       "      border-right-color: var(--fill-color);\n",
       "      border-top-color: var(--fill-color);\n",
       "    }\n",
       "    60% {\n",
       "      border-color: transparent;\n",
       "      border-right-color: var(--fill-color);\n",
       "    }\n",
       "    80% {\n",
       "      border-color: transparent;\n",
       "      border-right-color: var(--fill-color);\n",
       "      border-bottom-color: var(--fill-color);\n",
       "    }\n",
       "    90% {\n",
       "      border-color: transparent;\n",
       "      border-bottom-color: var(--fill-color);\n",
       "    }\n",
       "  }\n",
       "</style>\n",
       "\n",
       "  <script>\n",
       "    async function quickchart(key) {\n",
       "      const quickchartButtonEl =\n",
       "        document.querySelector('#' + key + ' button');\n",
       "      quickchartButtonEl.disabled = true;  // To prevent multiple clicks.\n",
       "      quickchartButtonEl.classList.add('colab-df-spinner');\n",
       "      try {\n",
       "        const charts = await google.colab.kernel.invokeFunction(\n",
       "            'suggestCharts', [key], {});\n",
       "      } catch (error) {\n",
       "        console.error('Error during call to suggestCharts:', error);\n",
       "      }\n",
       "      quickchartButtonEl.classList.remove('colab-df-spinner');\n",
       "      quickchartButtonEl.classList.add('colab-df-quickchart-complete');\n",
       "    }\n",
       "    (() => {\n",
       "      let quickchartButtonEl =\n",
       "        document.querySelector('#df-3d0bdf6b-97c7-425c-82a8-dbd5efb5a150 button');\n",
       "      quickchartButtonEl.style.display =\n",
       "        google.colab.kernel.accessAllowed ? 'block' : 'none';\n",
       "    })();\n",
       "  </script>\n",
       "</div>\n",
       "    </div>\n",
       "  </div>\n"
      ],
      "text/plain": [
       "   UserID  MovieID  Rating  Timestamp Gender  Age  Occupation Zip Code  \\\n",
       "0       2     1357       5  978298709      M   56          16    70072   \n",
       "1       8     1357       4  978230800      M   25          12    11413   \n",
       "2      10     1357       5  978227625      F   35           1    95370   \n",
       "3      18     1357       5  978156876      F   18           3    95825   \n",
       "4      33     1357       4  978109488      M   45           3    55421   \n",
       "\n",
       "          Title         Genres  \n",
       "0  Shine (1996)  Drama|Romance  \n",
       "1  Shine (1996)  Drama|Romance  \n",
       "2  Shine (1996)  Drama|Romance  \n",
       "3  Shine (1996)  Drama|Romance  \n",
       "4  Shine (1996)  Drama|Romance  "
      ]
     },
     "execution_count": 6,
     "metadata": {},
     "output_type": "execute_result"
    }
   ],
   "source": [
    "movielens_df.head()"
   ]
  },
  {
   "cell_type": "code",
   "execution_count": null,
   "metadata": {
    "colab": {
     "base_uri": "https://localhost:8080/"
    },
    "id": "eb3Y9eRC5yst",
    "outputId": "d118504d-f9e1-45d1-d0e4-cb9948b53268"
   },
   "outputs": [
    {
     "data": {
      "text/plain": [
       "3705"
      ]
     },
     "execution_count": 7,
     "metadata": {},
     "output_type": "execute_result"
    }
   ],
   "source": [
    "movielens_df.MovieID.nunique()"
   ]
  },
  {
   "cell_type": "code",
   "execution_count": null,
   "metadata": {
    "colab": {
     "base_uri": "https://localhost:8080/",
     "height": 466
    },
    "id": "BtsSqUy-5yst",
    "outputId": "c401013e-09a7-46ad-fc76-38f97e8b6a69"
   },
   "outputs": [
    {
     "data": {
      "text/plain": [
       "<Axes: xlabel='Rating', ylabel='Count'>"
      ]
     },
     "execution_count": 8,
     "metadata": {},
     "output_type": "execute_result"
    },
    {
     "data": {
      "image/png": "[encoded data removed]",
      "text/plain": [
       "<Figure size 640x480 with 1 Axes>"
      ]
     },
     "metadata": {},
     "output_type": "display_data"
    }
   ],
   "source": [
    "#(2 points) Plot a histogram of the ratings of all movies.\n",
    "\n",
    "sns.histplot(data = movielens_df, x = 'Rating', binwidth=0.8)"
   ]
  },
  {
   "cell_type": "markdown",
   "metadata": {
    "id": "KXjsxLnsJOJI"
   },
   "source": [
    " **Plot a histogram of the number of ratings each movie recieved.**"
   ]
  },
  {
   "cell_type": "code",
   "execution_count": null,
   "metadata": {
    "colab": {
     "base_uri": "https://localhost:8080/",
     "height": 455
    },
    "id": "2w_Y5jtL5yst",
    "outputId": "854de64e-f273-4036-9335-f14bbb64717e"
   },
   "outputs": [
    {
     "data": {
      "text/html": [
       "\n",
       "  <div id=\"df-b4f8081a-1bda-4cdc-964b-86025460d80e\" class=\"colab-df-container\">\n",
       "    <div>\n",
       "<style scoped>\n",
       "    .dataframe tbody tr th:only-of-type {\n",
       "        vertical-align: middle;\n",
       "    }\n",
       "\n",
       "    .dataframe tbody tr th {\n",
       "        vertical-align: top;\n",
       "    }\n",
       "\n",
       "    .dataframe thead th {\n",
       "        text-align: right;\n",
       "    }\n",
       "</style>\n",
       "<table border=\"1\" class=\"dataframe\">\n",
       "  <thead>\n",
       "    <tr style=\"text-align: right;\">\n",
       "      <th></th>\n",
       "      <th>UserID</th>\n",
       "      <th>Rating</th>\n",
       "      <th>Timestamp</th>\n",
       "      <th>Gender</th>\n",
       "      <th>Age</th>\n",
       "      <th>Occupation</th>\n",
       "      <th>Zip Code</th>\n",
       "      <th>Title</th>\n",
       "      <th>Genres</th>\n",
       "    </tr>\n",
       "    <tr>\n",
       "      <th>MovieID</th>\n",
       "      <th></th>\n",
       "      <th></th>\n",
       "      <th></th>\n",
       "      <th></th>\n",
       "      <th></th>\n",
       "      <th></th>\n",
       "      <th></th>\n",
       "      <th></th>\n",
       "      <th></th>\n",
       "    </tr>\n",
       "  </thead>\n",
       "  <tbody>\n",
       "    <tr>\n",
       "      <th>2</th>\n",
       "      <td>701</td>\n",
       "      <td>701</td>\n",
       "      <td>701</td>\n",
       "      <td>701</td>\n",
       "      <td>701</td>\n",
       "      <td>701</td>\n",
       "      <td>701</td>\n",
       "      <td>701</td>\n",
       "      <td>701</td>\n",
       "    </tr>\n",
       "    <tr>\n",
       "      <th>3</th>\n",
       "      <td>478</td>\n",
       "      <td>478</td>\n",
       "      <td>478</td>\n",
       "      <td>478</td>\n",
       "      <td>478</td>\n",
       "      <td>478</td>\n",
       "      <td>478</td>\n",
       "      <td>478</td>\n",
       "      <td>478</td>\n",
       "    </tr>\n",
       "    <tr>\n",
       "      <th>4</th>\n",
       "      <td>170</td>\n",
       "      <td>170</td>\n",
       "      <td>170</td>\n",
       "      <td>170</td>\n",
       "      <td>170</td>\n",
       "      <td>170</td>\n",
       "      <td>170</td>\n",
       "      <td>170</td>\n",
       "      <td>170</td>\n",
       "    </tr>\n",
       "    <tr>\n",
       "      <th>5</th>\n",
       "      <td>296</td>\n",
       "      <td>296</td>\n",
       "      <td>296</td>\n",
       "      <td>296</td>\n",
       "      <td>296</td>\n",
       "      <td>296</td>\n",
       "      <td>296</td>\n",
       "      <td>296</td>\n",
       "      <td>296</td>\n",
       "    </tr>\n",
       "    <tr>\n",
       "      <th>6</th>\n",
       "      <td>940</td>\n",
       "      <td>940</td>\n",
       "      <td>940</td>\n",
       "      <td>940</td>\n",
       "      <td>940</td>\n",
       "      <td>940</td>\n",
       "      <td>940</td>\n",
       "      <td>940</td>\n",
       "      <td>940</td>\n",
       "    </tr>\n",
       "    <tr>\n",
       "      <th>...</th>\n",
       "      <td>...</td>\n",
       "      <td>...</td>\n",
       "      <td>...</td>\n",
       "      <td>...</td>\n",
       "      <td>...</td>\n",
       "      <td>...</td>\n",
       "      <td>...</td>\n",
       "      <td>...</td>\n",
       "      <td>...</td>\n",
       "    </tr>\n",
       "    <tr>\n",
       "      <th>3948</th>\n",
       "      <td>862</td>\n",
       "      <td>862</td>\n",
       "      <td>862</td>\n",
       "      <td>862</td>\n",
       "      <td>862</td>\n",
       "      <td>862</td>\n",
       "      <td>862</td>\n",
       "      <td>862</td>\n",
       "      <td>862</td>\n",
       "    </tr>\n",
       "    <tr>\n",
       "      <th>3949</th>\n",
       "      <td>304</td>\n",
       "      <td>304</td>\n",
       "      <td>304</td>\n",
       "      <td>304</td>\n",
       "      <td>304</td>\n",
       "      <td>304</td>\n",
       "      <td>304</td>\n",
       "      <td>304</td>\n",
       "      <td>304</td>\n",
       "    </tr>\n",
       "    <tr>\n",
       "      <th>3950</th>\n",
       "      <td>54</td>\n",
       "      <td>54</td>\n",
       "      <td>54</td>\n",
       "      <td>54</td>\n",
       "      <td>54</td>\n",
       "      <td>54</td>\n",
       "      <td>54</td>\n",
       "      <td>54</td>\n",
       "      <td>54</td>\n",
       "    </tr>\n",
       "    <tr>\n",
       "      <th>3951</th>\n",
       "      <td>40</td>\n",
       "      <td>40</td>\n",
       "      <td>40</td>\n",
       "      <td>40</td>\n",
       "      <td>40</td>\n",
       "      <td>40</td>\n",
       "      <td>40</td>\n",
       "      <td>40</td>\n",
       "      <td>40</td>\n",
       "    </tr>\n",
       "    <tr>\n",
       "      <th>3952</th>\n",
       "      <td>388</td>\n",
       "      <td>388</td>\n",
       "      <td>388</td>\n",
       "      <td>388</td>\n",
       "      <td>388</td>\n",
       "      <td>388</td>\n",
       "      <td>388</td>\n",
       "      <td>388</td>\n",
       "      <td>388</td>\n",
       "    </tr>\n",
       "  </tbody>\n",
       "</table>\n",
       "<p>3705 rows × 9 columns</p>\n",
       "</div>\n",
       "    <div class=\"colab-df-buttons\">\n",
       "\n",
       "  <div class=\"colab-df-container\">\n",
       "    <button class=\"colab-df-convert\" onclick=\"convertToInteractive('df-b4f8081a-1bda-4cdc-964b-86025460d80e')\"\n",
       "            title=\"Convert this dataframe to an interactive table.\"\n",
       "            style=\"display:none;\">\n",
       "\n",
       "  <svg xmlns=\"http://www.w3.org/2000/svg\" height=\"24px\" viewBox=\"0 -960 960 960\">\n",
       "    <path d=\"M120-120v-720h720v720H120Zm60-500h600v-160H180v160Zm220 220h160v-160H400v160Zm0 220h160v-160H400v160ZM180-400h160v-160H180v160Zm440 0h160v-160H620v160ZM180-180h160v-160H180v160Zm440 0h160v-160H620v160Z\"/>\n",
       "  </svg>\n",
       "    </button>\n",
       "\n",
       "  <style>\n",
       "    .colab-df-container {\n",
       "      display:flex;\n",
       "      gap: 12px;\n",
       "    }\n",
       "\n",
       "    .colab-df-convert {\n",
       "      background-color: #E8F0FE;\n",
       "      border: none;\n",
       "      border-radius: 50%;\n",
       "      cursor: pointer;\n",
       "      display: none;\n",
       "      fill: #1967D2;\n",
       "      height: 32px;\n",
       "      padding: 0 0 0 0;\n",
       "      width: 32px;\n",
       "    }\n",
       "\n",
       "    .colab-df-convert:hover {\n",
       "      background-color: #E2EBFA;\n",
       "      box-shadow: 0px 1px 2px rgba(60, 64, 67, 0.3), 0px 1px 3px 1px rgba(60, 64, 67, 0.15);\n",
       "      fill: #174EA6;\n",
       "    }\n",
       "\n",
       "    .colab-df-buttons div {\n",
       "      margin-bottom: 4px;\n",
       "    }\n",
       "\n",
       "    [theme=dark] .colab-df-convert {\n",
       "      background-color: #3B4455;\n",
       "      fill: #D2E3FC;\n",
       "    }\n",
       "\n",
       "    [theme=dark] .colab-df-convert:hover {\n",
       "      background-color: #434B5C;\n",
       "      box-shadow: 0px 1px 3px 1px rgba(0, 0, 0, 0.15);\n",
       "      filter: drop-shadow(0px 1px 2px rgba(0, 0, 0, 0.3));\n",
       "      fill: #FFFFFF;\n",
       "    }\n",
       "  </style>\n",
       "\n",
       "    <script>\n",
       "      const buttonEl =\n",
       "        document.querySelector('#df-b4f8081a-1bda-4cdc-964b-86025460d80e button.colab-df-convert');\n",
       "      buttonEl.style.display =\n",
       "        google.colab.kernel.accessAllowed ? 'block' : 'none';\n",
       "\n",
       "      async function convertToInteractive(key) {\n",
       "        const element = document.querySelector('#df-b4f8081a-1bda-4cdc-964b-86025460d80e');\n",
       "        const dataTable =\n",
       "          await google.colab.kernel.invokeFunction('convertToInteractive',\n",
       "                                                    [key], {});\n",
       "        if (!dataTable) return;\n",
       "\n",
       "        const docLinkHtml = 'Like what you see? Visit the ' +\n",
       "          '<a target=\"_blank\" href=https://colab.research.google.com/notebooks/data_table.ipynb>data table notebook</a>'\n",
       "          + ' to learn more about interactive tables.';\n",
       "        element.innerHTML = '';\n",
       "        dataTable['output_type'] = 'display_data';\n",
       "        await google.colab.output.renderOutput(dataTable, element);\n",
       "        const docLink = document.createElement('div');\n",
       "        docLink.innerHTML = docLinkHtml;\n",
       "        element.appendChild(docLink);\n",
       "      }\n",
       "    </script>\n",
       "  </div>\n",
       "\n",
       "\n",
       "<div id=\"df-06e6e011-75c3-4881-a4a0-376422615129\">\n",
       "  <button class=\"colab-df-quickchart\" onclick=\"quickchart('df-06e6e011-75c3-4881-a4a0-376422615129')\"\n",
       "            title=\"Suggest charts.\"\n",
       "            style=\"display:none;\">\n",
       "\n",
       "<svg xmlns=\"http://www.w3.org/2000/svg\" height=\"24px\"viewBox=\"0 0 24 24\"\n",
       "     width=\"24px\">\n",
       "    <g>\n",
       "        <path d=\"M19 3H5c-1.1 0-2 .9-2 2v14c0 1.1.9 2 2 2h14c1.1 0 2-.9 2-2V5c0-1.1-.9-2-2-2zM9 17H7v-7h2v7zm4 0h-2V7h2v10zm4 0h-2v-4h2v4z\"/>\n",
       "    </g>\n",
       "</svg>\n",
       "  </button>\n",
       "\n",
       "<style>\n",
       "  .colab-df-quickchart {\n",
       "      --bg-color: #E8F0FE;\n",
       "      --fill-color: #1967D2;\n",
       "      --hover-bg-color: #E2EBFA;\n",
       "      --hover-fill-color: #174EA6;\n",
       "      --disabled-fill-color: #AAA;\n",
       "      --disabled-bg-color: #DDD;\n",
       "  }\n",
       "\n",
       "  [theme=dark] .colab-df-quickchart {\n",
       "      --bg-color: #3B4455;\n",
       "      --fill-color: #D2E3FC;\n",
       "      --hover-bg-color: #434B5C;\n",
       "      --hover-fill-color: #FFFFFF;\n",
       "      --disabled-bg-color: #3B4455;\n",
       "      --disabled-fill-color: #666;\n",
       "  }\n",
       "\n",
       "  .colab-df-quickchart {\n",
       "    background-color: var(--bg-color);\n",
       "    border: none;\n",
       "    border-radius: 50%;\n",
       "    cursor: pointer;\n",
       "    display: none;\n",
       "    fill: var(--fill-color);\n",
       "    height: 32px;\n",
       "    padding: 0;\n",
       "    width: 32px;\n",
       "  }\n",
       "\n",
       "  .colab-df-quickchart:hover {\n",
       "    background-color: var(--hover-bg-color);\n",
       "    box-shadow: 0 1px 2px rgba(60, 64, 67, 0.3), 0 1px 3px 1px rgba(60, 64, 67, 0.15);\n",
       "    fill: var(--button-hover-fill-color);\n",
       "  }\n",
       "\n",
       "  .colab-df-quickchart-complete:disabled,\n",
       "  .colab-df-quickchart-complete:disabled:hover {\n",
       "    background-color: var(--disabled-bg-color);\n",
       "    fill: var(--disabled-fill-color);\n",
       "    box-shadow: none;\n",
       "  }\n",
       "\n",
       "  .colab-df-spinner {\n",
       "    border: 2px solid var(--fill-color);\n",
       "    border-color: transparent;\n",
       "    border-bottom-color: var(--fill-color);\n",
       "    animation:\n",
       "      spin 1s steps(1) infinite;\n",
       "  }\n",
       "\n",
       "  @keyframes spin {\n",
       "    0% {\n",
       "      border-color: transparent;\n",
       "      border-bottom-color: var(--fill-color);\n",
       "      border-left-color: var(--fill-color);\n",
       "    }\n",
       "    20% {\n",
       "      border-color: transparent;\n",
       "      border-left-color: var(--fill-color);\n",
       "      border-top-color: var(--fill-color);\n",
       "    }\n",
       "    30% {\n",
       "      border-color: transparent;\n",
       "      border-left-color: var(--fill-color);\n",
       "      border-top-color: var(--fill-color);\n",
       "      border-right-color: var(--fill-color);\n",
       "    }\n",
       "    40% {\n",
       "      border-color: transparent;\n",
       "      border-right-color: var(--fill-color);\n",
       "      border-top-color: var(--fill-color);\n",
       "    }\n",
       "    60% {\n",
       "      border-color: transparent;\n",
       "      border-right-color: var(--fill-color);\n",
       "    }\n",
       "    80% {\n",
       "      border-color: transparent;\n",
       "      border-right-color: var(--fill-color);\n",
       "      border-bottom-color: var(--fill-color);\n",
       "    }\n",
       "    90% {\n",
       "      border-color: transparent;\n",
       "      border-bottom-color: var(--fill-color);\n",
       "    }\n",
       "  }\n",
       "</style>\n",
       "\n",
       "  <script>\n",
       "    async function quickchart(key) {\n",
       "      const quickchartButtonEl =\n",
       "        document.querySelector('#' + key + ' button');\n",
       "      quickchartButtonEl.disabled = true;  // To prevent multiple clicks.\n",
       "      quickchartButtonEl.classList.add('colab-df-spinner');\n",
       "      try {\n",
       "        const charts = await google.colab.kernel.invokeFunction(\n",
       "            'suggestCharts', [key], {});\n",
       "      } catch (error) {\n",
       "        console.error('Error during call to suggestCharts:', error);\n",
       "      }\n",
       "      quickchartButtonEl.classList.remove('colab-df-spinner');\n",
       "      quickchartButtonEl.classList.add('colab-df-quickchart-complete');\n",
       "    }\n",
       "    (() => {\n",
       "      let quickchartButtonEl =\n",
       "        document.querySelector('#df-06e6e011-75c3-4881-a4a0-376422615129 button');\n",
       "      quickchartButtonEl.style.display =\n",
       "        google.colab.kernel.accessAllowed ? 'block' : 'none';\n",
       "    })();\n",
       "  </script>\n",
       "</div>\n",
       "    </div>\n",
       "  </div>\n"
      ],
      "text/plain": [
       "         UserID  Rating  Timestamp  Gender  Age  Occupation  Zip Code  Title  \\\n",
       "MovieID                                                                        \n",
       "2           701     701        701     701  701         701       701    701   \n",
       "3           478     478        478     478  478         478       478    478   \n",
       "4           170     170        170     170  170         170       170    170   \n",
       "5           296     296        296     296  296         296       296    296   \n",
       "6           940     940        940     940  940         940       940    940   \n",
       "...         ...     ...        ...     ...  ...         ...       ...    ...   \n",
       "3948        862     862        862     862  862         862       862    862   \n",
       "3949        304     304        304     304  304         304       304    304   \n",
       "3950         54      54         54      54   54          54        54     54   \n",
       "3951         40      40         40      40   40          40        40     40   \n",
       "3952        388     388        388     388  388         388       388    388   \n",
       "\n",
       "         Genres  \n",
       "MovieID          \n",
       "2           701  \n",
       "3           478  \n",
       "4           170  \n",
       "5           296  \n",
       "6           940  \n",
       "...         ...  \n",
       "3948        862  \n",
       "3949        304  \n",
       "3950         54  \n",
       "3951         40  \n",
       "3952        388  \n",
       "\n",
       "[3705 rows x 9 columns]"
      ]
     },
     "execution_count": 9,
     "metadata": {},
     "output_type": "execute_result"
    }
   ],
   "source": [
    "Count = movielens_df.groupby(['MovieID']).count()\n",
    "Count"
   ]
  },
  {
   "cell_type": "code",
   "execution_count": null,
   "metadata": {
    "colab": {
     "base_uri": "https://localhost:8080/",
     "height": 468
    },
    "id": "nGyAzauQ5yst",
    "outputId": "377d350e-cb22-4e23-c92d-5b6af95cf4fd"
   },
   "outputs": [
    {
     "data": {
      "text/plain": [
       "<Axes: xlabel='Rating', ylabel='Count'>"
      ]
     },
     "execution_count": 10,
     "metadata": {},
     "output_type": "execute_result"
    },
    {
     "data": {
      "image/png": "[encoded data removed]",
      "text/plain": [
       "<Figure size 640x480 with 1 Axes>"
      ]
     },
     "metadata": {},
     "output_type": "display_data"
    }
   ],
   "source": [
    "sns.histplot(Count['Rating'],bins = 10, kde = True)"
   ]
  },
  {
   "cell_type": "markdown",
   "metadata": {
    "id": "2QO4yue_JhON"
   },
   "source": [
    "**Plot a histogram of the average rating for each movie.**"
   ]
  },
  {
   "cell_type": "code",
   "execution_count": null,
   "metadata": {
    "colab": {
     "base_uri": "https://localhost:8080/",
     "height": 509
    },
    "id": "fIAHWesF5yst",
    "outputId": "ee7c5ecb-0db3-4ad7-c001-97de640b39d6"
   },
   "outputs": [
    {
     "name": "stderr",
     "output_type": "stream",
     "text": [
      "<ipython-input-11-8681069d48f1>:1: FutureWarning: The default value of numeric_only in DataFrameGroupBy.mean is deprecated. In a future version, numeric_only will default to False. Either specify numeric_only or select only columns which should be valid for the function.\n",
      "  Average = movielens_df.groupby(['MovieID']).mean()\n"
     ]
    },
    {
     "data": {
      "text/html": [
       "\n",
       "  <div id=\"df-1814114d-e116-4678-9e00-b4ab1253854a\" class=\"colab-df-container\">\n",
       "    <div>\n",
       "<style scoped>\n",
       "    .dataframe tbody tr th:only-of-type {\n",
       "        vertical-align: middle;\n",
       "    }\n",
       "\n",
       "    .dataframe tbody tr th {\n",
       "        vertical-align: top;\n",
       "    }\n",
       "\n",
       "    .dataframe thead th {\n",
       "        text-align: right;\n",
       "    }\n",
       "</style>\n",
       "<table border=\"1\" class=\"dataframe\">\n",
       "  <thead>\n",
       "    <tr style=\"text-align: right;\">\n",
       "      <th></th>\n",
       "      <th>UserID</th>\n",
       "      <th>Rating</th>\n",
       "      <th>Timestamp</th>\n",
       "      <th>Age</th>\n",
       "      <th>Occupation</th>\n",
       "    </tr>\n",
       "    <tr>\n",
       "      <th>MovieID</th>\n",
       "      <th></th>\n",
       "      <th></th>\n",
       "      <th></th>\n",
       "      <th></th>\n",
       "      <th></th>\n",
       "    </tr>\n",
       "  </thead>\n",
       "  <tbody>\n",
       "    <tr>\n",
       "      <th>2</th>\n",
       "      <td>3027.977175</td>\n",
       "      <td>3.201141</td>\n",
       "      <td>9.717322e+08</td>\n",
       "      <td>27.800285</td>\n",
       "      <td>7.680456</td>\n",
       "    </tr>\n",
       "    <tr>\n",
       "      <th>3</th>\n",
       "      <td>2632.156904</td>\n",
       "      <td>3.016736</td>\n",
       "      <td>9.734544e+08</td>\n",
       "      <td>29.276151</td>\n",
       "      <td>7.826360</td>\n",
       "    </tr>\n",
       "    <tr>\n",
       "      <th>4</th>\n",
       "      <td>3268.841176</td>\n",
       "      <td>2.729412</td>\n",
       "      <td>9.716206e+08</td>\n",
       "      <td>27.788235</td>\n",
       "      <td>6.752941</td>\n",
       "    </tr>\n",
       "    <tr>\n",
       "      <th>5</th>\n",
       "      <td>3143.152027</td>\n",
       "      <td>3.006757</td>\n",
       "      <td>9.718301e+08</td>\n",
       "      <td>27.425676</td>\n",
       "      <td>7.506757</td>\n",
       "    </tr>\n",
       "    <tr>\n",
       "      <th>6</th>\n",
       "      <td>3029.761702</td>\n",
       "      <td>3.878723</td>\n",
       "      <td>9.712302e+08</td>\n",
       "      <td>27.729787</td>\n",
       "      <td>8.392553</td>\n",
       "    </tr>\n",
       "    <tr>\n",
       "      <th>...</th>\n",
       "      <td>...</td>\n",
       "      <td>...</td>\n",
       "      <td>...</td>\n",
       "      <td>...</td>\n",
       "      <td>...</td>\n",
       "    </tr>\n",
       "    <tr>\n",
       "      <th>3948</th>\n",
       "      <td>2063.107889</td>\n",
       "      <td>3.635731</td>\n",
       "      <td>9.822191e+08</td>\n",
       "      <td>27.737819</td>\n",
       "      <td>8.305104</td>\n",
       "    </tr>\n",
       "    <tr>\n",
       "      <th>3949</th>\n",
       "      <td>2289.046053</td>\n",
       "      <td>4.115132</td>\n",
       "      <td>9.937587e+08</td>\n",
       "      <td>26.203947</td>\n",
       "      <td>7.578947</td>\n",
       "    </tr>\n",
       "    <tr>\n",
       "      <th>3950</th>\n",
       "      <td>2123.370370</td>\n",
       "      <td>3.666667</td>\n",
       "      <td>9.970516e+08</td>\n",
       "      <td>27.851852</td>\n",
       "      <td>7.407407</td>\n",
       "    </tr>\n",
       "    <tr>\n",
       "      <th>3951</th>\n",
       "      <td>1687.925000</td>\n",
       "      <td>3.900000</td>\n",
       "      <td>9.846545e+08</td>\n",
       "      <td>35.100000</td>\n",
       "      <td>7.800000</td>\n",
       "    </tr>\n",
       "    <tr>\n",
       "      <th>3952</th>\n",
       "      <td>2002.659794</td>\n",
       "      <td>3.780928</td>\n",
       "      <td>9.836126e+08</td>\n",
       "      <td>31.188144</td>\n",
       "      <td>8.378866</td>\n",
       "    </tr>\n",
       "  </tbody>\n",
       "</table>\n",
       "<p>3705 rows × 5 columns</p>\n",
       "</div>\n",
       "    <div class=\"colab-df-buttons\">\n",
       "\n",
       "  <div class=\"colab-df-container\">\n",
       "    <button class=\"colab-df-convert\" onclick=\"convertToInteractive('df-1814114d-e116-4678-9e00-b4ab1253854a')\"\n",
       "            title=\"Convert this dataframe to an interactive table.\"\n",
       "            style=\"display:none;\">\n",
       "\n",
       "  <svg xmlns=\"http://www.w3.org/2000/svg\" height=\"24px\" viewBox=\"0 -960 960 960\">\n",
       "    <path d=\"M120-120v-720h720v720H120Zm60-500h600v-160H180v160Zm220 220h160v-160H400v160Zm0 220h160v-160H400v160ZM180-400h160v-160H180v160Zm440 0h160v-160H620v160ZM180-180h160v-160H180v160Zm440 0h160v-160H620v160Z\"/>\n",
       "  </svg>\n",
       "    </button>\n",
       "\n",
       "  <style>\n",
       "    .colab-df-container {\n",
       "      display:flex;\n",
       "      gap: 12px;\n",
       "    }\n",
       "\n",
       "    .colab-df-convert {\n",
       "      background-color: #E8F0FE;\n",
       "      border: none;\n",
       "      border-radius: 50%;\n",
       "      cursor: pointer;\n",
       "      display: none;\n",
       "      fill: #1967D2;\n",
       "      height: 32px;\n",
       "      padding: 0 0 0 0;\n",
       "      width: 32px;\n",
       "    }\n",
       "\n",
       "    .colab-df-convert:hover {\n",
       "      background-color: #E2EBFA;\n",
       "      box-shadow: 0px 1px 2px rgba(60, 64, 67, 0.3), 0px 1px 3px 1px rgba(60, 64, 67, 0.15);\n",
       "      fill: #174EA6;\n",
       "    }\n",
       "\n",
       "    .colab-df-buttons div {\n",
       "      margin-bottom: 4px;\n",
       "    }\n",
       "\n",
       "    [theme=dark] .colab-df-convert {\n",
       "      background-color: #3B4455;\n",
       "      fill: #D2E3FC;\n",
       "    }\n",
       "\n",
       "    [theme=dark] .colab-df-convert:hover {\n",
       "      background-color: #434B5C;\n",
       "      box-shadow: 0px 1px 3px 1px rgba(0, 0, 0, 0.15);\n",
       "      filter: drop-shadow(0px 1px 2px rgba(0, 0, 0, 0.3));\n",
       "      fill: #FFFFFF;\n",
       "    }\n",
       "  </style>\n",
       "\n",
       "    <script>\n",
       "      const buttonEl =\n",
       "        document.querySelector('#df-1814114d-e116-4678-9e00-b4ab1253854a button.colab-df-convert');\n",
       "      buttonEl.style.display =\n",
       "        google.colab.kernel.accessAllowed ? 'block' : 'none';\n",
       "\n",
       "      async function convertToInteractive(key) {\n",
       "        const element = document.querySelector('#df-1814114d-e116-4678-9e00-b4ab1253854a');\n",
       "        const dataTable =\n",
       "          await google.colab.kernel.invokeFunction('convertToInteractive',\n",
       "                                                    [key], {});\n",
       "        if (!dataTable) return;\n",
       "\n",
       "        const docLinkHtml = 'Like what you see? Visit the ' +\n",
       "          '<a target=\"_blank\" href=https://colab.research.google.com/notebooks/data_table.ipynb>data table notebook</a>'\n",
       "          + ' to learn more about interactive tables.';\n",
       "        element.innerHTML = '';\n",
       "        dataTable['output_type'] = 'display_data';\n",
       "        await google.colab.output.renderOutput(dataTable, element);\n",
       "        const docLink = document.createElement('div');\n",
       "        docLink.innerHTML = docLinkHtml;\n",
       "        element.appendChild(docLink);\n",
       "      }\n",
       "    </script>\n",
       "  </div>\n",
       "\n",
       "\n",
       "<div id=\"df-345fac7d-1316-4d18-a609-dac94c098bba\">\n",
       "  <button class=\"colab-df-quickchart\" onclick=\"quickchart('df-345fac7d-1316-4d18-a609-dac94c098bba')\"\n",
       "            title=\"Suggest charts.\"\n",
       "            style=\"display:none;\">\n",
       "\n",
       "<svg xmlns=\"http://www.w3.org/2000/svg\" height=\"24px\"viewBox=\"0 0 24 24\"\n",
       "     width=\"24px\">\n",
       "    <g>\n",
       "        <path d=\"M19 3H5c-1.1 0-2 .9-2 2v14c0 1.1.9 2 2 2h14c1.1 0 2-.9 2-2V5c0-1.1-.9-2-2-2zM9 17H7v-7h2v7zm4 0h-2V7h2v10zm4 0h-2v-4h2v4z\"/>\n",
       "    </g>\n",
       "</svg>\n",
       "  </button>\n",
       "\n",
       "<style>\n",
       "  .colab-df-quickchart {\n",
       "      --bg-color: #E8F0FE;\n",
       "      --fill-color: #1967D2;\n",
       "      --hover-bg-color: #E2EBFA;\n",
       "      --hover-fill-color: #174EA6;\n",
       "      --disabled-fill-color: #AAA;\n",
       "      --disabled-bg-color: #DDD;\n",
       "  }\n",
       "\n",
       "  [theme=dark] .colab-df-quickchart {\n",
       "      --bg-color: #3B4455;\n",
       "      --fill-color: #D2E3FC;\n",
       "      --hover-bg-color: #434B5C;\n",
       "      --hover-fill-color: #FFFFFF;\n",
       "      --disabled-bg-color: #3B4455;\n",
       "      --disabled-fill-color: #666;\n",
       "  }\n",
       "\n",
       "  .colab-df-quickchart {\n",
       "    background-color: var(--bg-color);\n",
       "    border: none;\n",
       "    border-radius: 50%;\n",
       "    cursor: pointer;\n",
       "    display: none;\n",
       "    fill: var(--fill-color);\n",
       "    height: 32px;\n",
       "    padding: 0;\n",
       "    width: 32px;\n",
       "  }\n",
       "\n",
       "  .colab-df-quickchart:hover {\n",
       "    background-color: var(--hover-bg-color);\n",
       "    box-shadow: 0 1px 2px rgba(60, 64, 67, 0.3), 0 1px 3px 1px rgba(60, 64, 67, 0.15);\n",
       "    fill: var(--button-hover-fill-color);\n",
       "  }\n",
       "\n",
       "  .colab-df-quickchart-complete:disabled,\n",
       "  .colab-df-quickchart-complete:disabled:hover {\n",
       "    background-color: var(--disabled-bg-color);\n",
       "    fill: var(--disabled-fill-color);\n",
       "    box-shadow: none;\n",
       "  }\n",
       "\n",
       "  .colab-df-spinner {\n",
       "    border: 2px solid var(--fill-color);\n",
       "    border-color: transparent;\n",
       "    border-bottom-color: var(--fill-color);\n",
       "    animation:\n",
       "      spin 1s steps(1) infinite;\n",
       "  }\n",
       "\n",
       "  @keyframes spin {\n",
       "    0% {\n",
       "      border-color: transparent;\n",
       "      border-bottom-color: var(--fill-color);\n",
       "      border-left-color: var(--fill-color);\n",
       "    }\n",
       "    20% {\n",
       "      border-color: transparent;\n",
       "      border-left-color: var(--fill-color);\n",
       "      border-top-color: var(--fill-color);\n",
       "    }\n",
       "    30% {\n",
       "      border-color: transparent;\n",
       "      border-left-color: var(--fill-color);\n",
       "      border-top-color: var(--fill-color);\n",
       "      border-right-color: var(--fill-color);\n",
       "    }\n",
       "    40% {\n",
       "      border-color: transparent;\n",
       "      border-right-color: var(--fill-color);\n",
       "      border-top-color: var(--fill-color);\n",
       "    }\n",
       "    60% {\n",
       "      border-color: transparent;\n",
       "      border-right-color: var(--fill-color);\n",
       "    }\n",
       "    80% {\n",
       "      border-color: transparent;\n",
       "      border-right-color: var(--fill-color);\n",
       "      border-bottom-color: var(--fill-color);\n",
       "    }\n",
       "    90% {\n",
       "      border-color: transparent;\n",
       "      border-bottom-color: var(--fill-color);\n",
       "    }\n",
       "  }\n",
       "</style>\n",
       "\n",
       "  <script>\n",
       "    async function quickchart(key) {\n",
       "      const quickchartButtonEl =\n",
       "        document.querySelector('#' + key + ' button');\n",
       "      quickchartButtonEl.disabled = true;  // To prevent multiple clicks.\n",
       "      quickchartButtonEl.classList.add('colab-df-spinner');\n",
       "      try {\n",
       "        const charts = await google.colab.kernel.invokeFunction(\n",
       "            'suggestCharts', [key], {});\n",
       "      } catch (error) {\n",
       "        console.error('Error during call to suggestCharts:', error);\n",
       "      }\n",
       "      quickchartButtonEl.classList.remove('colab-df-spinner');\n",
       "      quickchartButtonEl.classList.add('colab-df-quickchart-complete');\n",
       "    }\n",
       "    (() => {\n",
       "      let quickchartButtonEl =\n",
       "        document.querySelector('#df-345fac7d-1316-4d18-a609-dac94c098bba button');\n",
       "      quickchartButtonEl.style.display =\n",
       "        google.colab.kernel.accessAllowed ? 'block' : 'none';\n",
       "    })();\n",
       "  </script>\n",
       "</div>\n",
       "    </div>\n",
       "  </div>\n"
      ],
      "text/plain": [
       "              UserID    Rating     Timestamp        Age  Occupation\n",
       "MovieID                                                            \n",
       "2        3027.977175  3.201141  9.717322e+08  27.800285    7.680456\n",
       "3        2632.156904  3.016736  9.734544e+08  29.276151    7.826360\n",
       "4        3268.841176  2.729412  9.716206e+08  27.788235    6.752941\n",
       "5        3143.152027  3.006757  9.718301e+08  27.425676    7.506757\n",
       "6        3029.761702  3.878723  9.712302e+08  27.729787    8.392553\n",
       "...              ...       ...           ...        ...         ...\n",
       "3948     2063.107889  3.635731  9.822191e+08  27.737819    8.305104\n",
       "3949     2289.046053  4.115132  9.937587e+08  26.203947    7.578947\n",
       "3950     2123.370370  3.666667  9.970516e+08  27.851852    7.407407\n",
       "3951     1687.925000  3.900000  9.846545e+08  35.100000    7.800000\n",
       "3952     2002.659794  3.780928  9.836126e+08  31.188144    8.378866\n",
       "\n",
       "[3705 rows x 5 columns]"
      ]
     },
     "execution_count": 11,
     "metadata": {},
     "output_type": "execute_result"
    }
   ],
   "source": [
    "Average = movielens_df.groupby(['MovieID']).mean()\n",
    "Average"
   ]
  },
  {
   "cell_type": "code",
   "execution_count": null,
   "metadata": {
    "colab": {
     "base_uri": "https://localhost:8080/",
     "height": 466
    },
    "id": "p9jv5wgU5ysu",
    "outputId": "4763f30e-090a-4fa7-aaf7-953f499609a0"
   },
   "outputs": [
    {
     "data": {
      "text/plain": [
       "<Axes: xlabel='Rating', ylabel='Count'>"
      ]
     },
     "execution_count": 12,
     "metadata": {},
     "output_type": "execute_result"
    },
    {
     "data": {
      "image/png": "[encoded data removed]",
      "text/plain": [
       "<Figure size 640x480 with 1 Axes>"
      ]
     },
     "metadata": {},
     "output_type": "display_data"
    }
   ],
   "source": [
    "sns.histplot(Average['Rating'], kde = True)"
   ]
  },
  {
   "cell_type": "markdown",
   "metadata": {
    "id": "W2WWYOcuJ7-u"
   },
   "source": [
    "**(6 points) Plot a histogram of the average rating for movies which are rated more than 100 times.\n",
    "What do you observe about the tails of the histogram where you use all the movies versus the one where you only use movies rated more than 100 times?\n",
    "Which highly rated movies would you trust are actually good? Those rated more than 100 times or those rated less than 100 times?**"
   ]
  },
  {
   "cell_type": "code",
   "execution_count": null,
   "metadata": {
    "colab": {
     "base_uri": "https://localhost:8080/"
    },
    "id": "-EdHYGNC5ysu",
    "outputId": "2e3dd6df-61dc-4e33-a34c-8fa464c7fa87"
   },
   "outputs": [
    {
     "name": "stdout",
     "output_type": "stream",
     "text": [
      "<class 'pandas.core.series.Series'>\n"
     ]
    }
   ],
   "source": [
    "list_great_100 = []\n",
    "no_of_val = [movielens_df.MovieID.value_counts(sort = False)]\n",
    "print(type(no_of_val[0]))\n",
    "x = no_of_val[0].iloc[:].values\n",
    "y = no_of_val[0].iloc[:].index\n",
    "\n",
    "for (i,j) in zip(x,y):\n",
    "    if i > 100:\n",
    "        list_great_100.append(j)"
   ]
  },
  {
   "cell_type": "code",
   "execution_count": null,
   "metadata": {
    "colab": {
     "base_uri": "https://localhost:8080/"
    },
    "id": "fKgNy_0I5ysu",
    "outputId": "3dcfd276-2afd-49c7-d7b8-d2966f561102"
   },
   "outputs": [
    {
     "data": {
      "text/plain": [
       "(998080, 10)"
      ]
     },
     "execution_count": 14,
     "metadata": {},
     "output_type": "execute_result"
    }
   ],
   "source": [
    "new_movielens = movielens_df\n",
    "new_movielens.shape"
   ]
  },
  {
   "cell_type": "code",
   "execution_count": null,
   "metadata": {
    "id": "f6v9KqS05ysu"
   },
   "outputs": [],
   "source": [
    "for i in range((new_movielens.shape[0])):\n",
    "    if i in new_movielens.index:\n",
    "        if new_movielens.MovieID[i] not in list_great_100:\n",
    "            new_movielens.drop(i, axis = 0, inplace = True)\n",
    "#         print(new_movielens.index[i])"
   ]
  },
  {
   "cell_type": "code",
   "execution_count": null,
   "metadata": {
    "id": "xxgJq8tP5ysv",
    "outputId": "7d17a7ad-1a18-4132-eb40-2c5883476a90"
   },
   "outputs": [
    {
     "data": {
      "text/plain": [
       "(938838, 10)"
      ]
     },
     "execution_count": 53,
     "metadata": {},
     "output_type": "execute_result"
    }
   ],
   "source": [
    "new_movielens.shape"
   ]
  },
  {
   "cell_type": "code",
   "execution_count": null,
   "metadata": {
    "id": "2Q0Jwgdb5ysv",
    "outputId": "0cadc19d-bcb1-447b-cd00-f634a01d4787"
   },
   "outputs": [
    {
     "name": "stderr",
     "output_type": "stream",
     "text": [
      "C:\\Users\\Atharva Kulkarni\\AppData\\Local\\Temp\\ipykernel_20240\\652028949.py:1: FutureWarning: The default value of numeric_only in DataFrameGroupBy.mean is deprecated. In a future version, numeric_only will default to False. Either specify numeric_only or select only columns which should be valid for the function.\n",
      "  new_Average = new_movielens.groupby(['MovieID']).mean()\n"
     ]
    },
    {
     "data": {
      "text/html": [
       "<div>\n",
       "<style scoped>\n",
       "    .dataframe tbody tr th:only-of-type {\n",
       "        vertical-align: middle;\n",
       "    }\n",
       "\n",
       "    .dataframe tbody tr th {\n",
       "        vertical-align: top;\n",
       "    }\n",
       "\n",
       "    .dataframe thead th {\n",
       "        text-align: right;\n",
       "    }\n",
       "</style>\n",
       "<table border=\"1\" class=\"dataframe\">\n",
       "  <thead>\n",
       "    <tr style=\"text-align: right;\">\n",
       "      <th></th>\n",
       "      <th>UserID</th>\n",
       "      <th>Rating</th>\n",
       "      <th>Timestamp</th>\n",
       "      <th>Age</th>\n",
       "      <th>Occupation</th>\n",
       "    </tr>\n",
       "    <tr>\n",
       "      <th>MovieID</th>\n",
       "      <th></th>\n",
       "      <th></th>\n",
       "      <th></th>\n",
       "      <th></th>\n",
       "      <th></th>\n",
       "    </tr>\n",
       "  </thead>\n",
       "  <tbody>\n",
       "    <tr>\n",
       "      <th>2</th>\n",
       "      <td>3027.977175</td>\n",
       "      <td>3.201141</td>\n",
       "      <td>9.717322e+08</td>\n",
       "      <td>27.800285</td>\n",
       "      <td>7.680456</td>\n",
       "    </tr>\n",
       "    <tr>\n",
       "      <th>3</th>\n",
       "      <td>2632.156904</td>\n",
       "      <td>3.016736</td>\n",
       "      <td>9.734544e+08</td>\n",
       "      <td>29.276151</td>\n",
       "      <td>7.826360</td>\n",
       "    </tr>\n",
       "    <tr>\n",
       "      <th>4</th>\n",
       "      <td>3268.841176</td>\n",
       "      <td>2.729412</td>\n",
       "      <td>9.716206e+08</td>\n",
       "      <td>27.788235</td>\n",
       "      <td>6.752941</td>\n",
       "    </tr>\n",
       "    <tr>\n",
       "      <th>5</th>\n",
       "      <td>3143.152027</td>\n",
       "      <td>3.006757</td>\n",
       "      <td>9.718301e+08</td>\n",
       "      <td>27.425676</td>\n",
       "      <td>7.506757</td>\n",
       "    </tr>\n",
       "    <tr>\n",
       "      <th>6</th>\n",
       "      <td>3029.761702</td>\n",
       "      <td>3.878723</td>\n",
       "      <td>9.712302e+08</td>\n",
       "      <td>27.729787</td>\n",
       "      <td>8.392553</td>\n",
       "    </tr>\n",
       "    <tr>\n",
       "      <th>...</th>\n",
       "      <td>...</td>\n",
       "      <td>...</td>\n",
       "      <td>...</td>\n",
       "      <td>...</td>\n",
       "      <td>...</td>\n",
       "    </tr>\n",
       "    <tr>\n",
       "      <th>3936</th>\n",
       "      <td>2014.062500</td>\n",
       "      <td>3.723214</td>\n",
       "      <td>9.758834e+08</td>\n",
       "      <td>37.928571</td>\n",
       "      <td>8.982143</td>\n",
       "    </tr>\n",
       "    <tr>\n",
       "      <th>3937</th>\n",
       "      <td>1902.370370</td>\n",
       "      <td>2.940741</td>\n",
       "      <td>9.761836e+08</td>\n",
       "      <td>31.874074</td>\n",
       "      <td>8.800000</td>\n",
       "    </tr>\n",
       "    <tr>\n",
       "      <th>3948</th>\n",
       "      <td>2063.107889</td>\n",
       "      <td>3.635731</td>\n",
       "      <td>9.822191e+08</td>\n",
       "      <td>27.737819</td>\n",
       "      <td>8.305104</td>\n",
       "    </tr>\n",
       "    <tr>\n",
       "      <th>3949</th>\n",
       "      <td>2289.046053</td>\n",
       "      <td>4.115132</td>\n",
       "      <td>9.937587e+08</td>\n",
       "      <td>26.203947</td>\n",
       "      <td>7.578947</td>\n",
       "    </tr>\n",
       "    <tr>\n",
       "      <th>3952</th>\n",
       "      <td>2002.659794</td>\n",
       "      <td>3.780928</td>\n",
       "      <td>9.836126e+08</td>\n",
       "      <td>31.188144</td>\n",
       "      <td>8.378866</td>\n",
       "    </tr>\n",
       "  </tbody>\n",
       "</table>\n",
       "<p>2032 rows × 5 columns</p>\n",
       "</div>"
      ],
      "text/plain": [
       "              UserID    Rating     Timestamp        Age  Occupation\n",
       "MovieID                                                            \n",
       "2        3027.977175  3.201141  9.717322e+08  27.800285    7.680456\n",
       "3        2632.156904  3.016736  9.734544e+08  29.276151    7.826360\n",
       "4        3268.841176  2.729412  9.716206e+08  27.788235    6.752941\n",
       "5        3143.152027  3.006757  9.718301e+08  27.425676    7.506757\n",
       "6        3029.761702  3.878723  9.712302e+08  27.729787    8.392553\n",
       "...              ...       ...           ...        ...         ...\n",
       "3936     2014.062500  3.723214  9.758834e+08  37.928571    8.982143\n",
       "3937     1902.370370  2.940741  9.761836e+08  31.874074    8.800000\n",
       "3948     2063.107889  3.635731  9.822191e+08  27.737819    8.305104\n",
       "3949     2289.046053  4.115132  9.937587e+08  26.203947    7.578947\n",
       "3952     2002.659794  3.780928  9.836126e+08  31.188144    8.378866\n",
       "\n",
       "[2032 rows x 5 columns]"
      ]
     },
     "execution_count": 54,
     "metadata": {},
     "output_type": "execute_result"
    }
   ],
   "source": [
    "new_Average = new_movielens.groupby(['MovieID']).mean()\n",
    "new_Average"
   ]
  },
  {
   "cell_type": "code",
   "execution_count": null,
   "metadata": {
    "id": "xiGULa6b5ysv",
    "outputId": "846a083c-5efa-4e9c-cc7b-13d6819c2c1d"
   },
   "outputs": [
    {
     "data": {
      "text/plain": [
       "<Axes: xlabel='Rating', ylabel='Count'>"
      ]
     },
     "execution_count": 55,
     "metadata": {},
     "output_type": "execute_result"
    },
    {
     "data": {
      "image/png": "[encoded data removed]",
      "text/plain": [
       "<Figure size 640x480 with 1 Axes>"
      ]
     },
     "metadata": {},
     "output_type": "display_data"
    }
   ],
   "source": [
    "sns.histplot(new_Average['Rating'], kde = True)"
   ]
  },
  {
   "cell_type": "markdown",
   "metadata": {
    "id": "z07q8CjSK0y4"
   },
   "source": [
    "**Conjectures**"
   ]
  },
  {
   "cell_type": "code",
   "execution_count": null,
   "metadata": {
    "id": "p0kf3ttc5ysv",
    "outputId": "e9fbcc22-a90d-4928-943e-dae9b169acbf"
   },
   "outputs": [
    {
     "data": {
      "text/plain": [
       "MovieID\n",
       "2       3.388889\n",
       "3       3.500000\n",
       "4       3.333333\n",
       "5       3.400000\n",
       "6       3.904762\n",
       "          ...   \n",
       "3948    4.160000\n",
       "3949    4.615385\n",
       "3950    4.000000\n",
       "3951    3.000000\n",
       "3952    3.833333\n",
       "Name: Rating, Length: 2648, dtype: float64"
      ]
     },
     "execution_count": 15,
     "metadata": {},
     "output_type": "execute_result"
    }
   ],
   "source": [
    "avg_children = movielens_df[(movielens_df['Age'] >= 1) & (movielens_df['Age'] <= 10)].groupby('MovieID')[\"Rating\"].mean()\n",
    "avg_children"
   ]
  },
  {
   "cell_type": "code",
   "execution_count": null,
   "metadata": {
    "id": "IbgZElT95ys0",
    "outputId": "8a00d7f6-dc23-4fc5-c992-4c93c1bc20cb"
   },
   "outputs": [
    {
     "data": {
      "text/plain": [
       "<Axes: xlabel='Rating', ylabel='Count'>"
      ]
     },
     "execution_count": 16,
     "metadata": {},
     "output_type": "execute_result"
    },
    {
     "data": {
      "image/png": "[encoded data removed]",
      "text/plain": [
       "<Figure size 640x480 with 1 Axes>"
      ]
     },
     "metadata": {},
     "output_type": "display_data"
    }
   ],
   "source": [
    "sns.histplot(avg_children, kde = True)"
   ]
  },
  {
   "cell_type": "code",
   "execution_count": null,
   "metadata": {
    "id": "sG70zlqF5ys0",
    "outputId": "89f32a75-5b65-4f82-8e65-a09db89c9a8f"
   },
   "outputs": [
    {
     "data": {
      "text/plain": [
       "MovieID\n",
       "2       3.175238\n",
       "3       2.994152\n",
       "4       2.482353\n",
       "5       2.888298\n",
       "6       3.909988\n",
       "          ...   \n",
       "3948    3.641838\n",
       "3949    4.174107\n",
       "3950    3.681818\n",
       "3951    4.043478\n",
       "3952    3.787986\n",
       "Name: Rating, Length: 3670, dtype: float64"
      ]
     },
     "execution_count": 17,
     "metadata": {},
     "output_type": "execute_result"
    }
   ],
   "source": [
    "avg_rating_men = movielens_df[(movielens_df['Gender'] == 'M')].groupby('MovieID')[\"Rating\"].mean()\n",
    "avg_rating_men"
   ]
  },
  {
   "cell_type": "code",
   "execution_count": null,
   "metadata": {
    "id": "2glpIFEV5ys0",
    "outputId": "fe0e0018-c394-4a7a-e851-c04468a28119"
   },
   "outputs": [
    {
     "data": {
      "text/plain": [
       "<Axes: xlabel='Rating', ylabel='Count'>"
      ]
     },
     "execution_count": 18,
     "metadata": {},
     "output_type": "execute_result"
    },
    {
     "data": {
      "image/png": "[encoded data removed]",
      "text/plain": [
       "<Figure size 640x480 with 1 Axes>"
      ]
     },
     "metadata": {},
     "output_type": "display_data"
    }
   ],
   "source": [
    "sns.histplot(avg_rating_men, kde = True)"
   ]
  },
  {
   "cell_type": "code",
   "execution_count": null,
   "metadata": {
    "id": "iDV_eYmy5ys0",
    "outputId": "5b2c092a-e40b-41ef-e4a6-791f983836ed"
   },
   "outputs": [
    {
     "data": {
      "text/plain": [
       "MovieID\n",
       "2       3.278409\n",
       "3       3.073529\n",
       "4       2.976471\n",
       "5       3.212963\n",
       "6       3.682171\n",
       "          ...   \n",
       "3948    3.619048\n",
       "3949    3.950000\n",
       "3950    3.600000\n",
       "3951    3.705882\n",
       "3952    3.761905\n",
       "Name: Rating, Length: 3480, dtype: float64"
      ]
     },
     "execution_count": 19,
     "metadata": {},
     "output_type": "execute_result"
    }
   ],
   "source": [
    "avg_rating_women = movielens_df[(movielens_df['Gender'] == 'F')].groupby('MovieID')[\"Rating\"].mean()\n",
    "avg_rating_women"
   ]
  },
  {
   "cell_type": "code",
   "execution_count": null,
   "metadata": {
    "id": "uv_ds4sC5ys1",
    "outputId": "6ef959c5-fe71-47ae-bbad-8cf608f9a6d8"
   },
   "outputs": [
    {
     "data": {
      "text/plain": [
       "<Axes: xlabel='Rating', ylabel='Count'>"
      ]
     },
     "execution_count": 20,
     "metadata": {},
     "output_type": "execute_result"
    },
    {
     "data": {
      "image/png": "[encoded data removed]",
      "text/plain": [
       "<Figure size 640x480 with 1 Axes>"
      ]
     },
     "metadata": {},
     "output_type": "display_data"
    }
   ],
   "source": [
    "sns.histplot(avg_rating_women, kde = True)"
   ]
  },
  {
   "cell_type": "code",
   "execution_count": null,
   "metadata": {
    "id": "tM1z7qDm5ys1",
    "outputId": "fcaf1453-44aa-446d-fcd5-b7f916c8b629"
   },
   "outputs": [
    {
     "data": {
      "text/plain": [
       "MovieID\n",
       "2       3.355191\n",
       "3       2.873950\n",
       "4       2.800000\n",
       "5       2.901639\n",
       "6       3.736170\n",
       "          ...   \n",
       "3948    3.502488\n",
       "3949    4.192308\n",
       "3950    3.818182\n",
       "3951    3.916667\n",
       "3952    3.915966\n",
       "Name: Rating, Length: 3549, dtype: float64"
      ]
     },
     "execution_count": 22,
     "metadata": {},
     "output_type": "execute_result"
    }
   ],
   "source": [
    "avg_rating_men_30 = movielens_df[(movielens_df['Gender'] == 'M') & (movielens_df['Age'] >= 30)].groupby('MovieID')[\"Rating\"].mean()\n",
    "avg_rating_men_30"
   ]
  },
  {
   "cell_type": "code",
   "execution_count": null,
   "metadata": {
    "id": "x4xkX0lG5ys1",
    "outputId": "f033fbab-fac1-4d7d-9f99-14932dc55fe4"
   },
   "outputs": [
    {
     "data": {
      "text/plain": [
       "<Axes: xlabel='Rating', ylabel='Count'>"
      ]
     },
     "execution_count": 23,
     "metadata": {},
     "output_type": "execute_result"
    },
    {
     "data": {
      "image/png": "[encoded data removed]",
      "text/plain": [
       "<Figure size 640x480 with 1 Axes>"
      ]
     },
     "metadata": {},
     "output_type": "display_data"
    }
   ],
   "source": [
    "sns.histplot(avg_rating_men_30, kde = True)"
   ]
  },
  {
   "cell_type": "code",
   "execution_count": null,
   "metadata": {
    "id": "IFGt1pL95ys1",
    "outputId": "8a067589-41dc-49e5-dc3d-2477dd8d8253"
   },
   "outputs": [
    {
     "data": {
      "text/plain": [
       "MovieID\n",
       "2       3.373134\n",
       "3       3.172414\n",
       "4       2.952381\n",
       "5       3.473684\n",
       "6       3.595745\n",
       "          ...   \n",
       "3948    3.558140\n",
       "3949    3.807692\n",
       "3950    3.571429\n",
       "3951    3.916667\n",
       "3952    3.846154\n",
       "Name: Rating, Length: 3278, dtype: float64"
      ]
     },
     "execution_count": 24,
     "metadata": {},
     "output_type": "execute_result"
    }
   ],
   "source": [
    "avg_rating_women_30 = movielens_df[(movielens_df['Gender'] == 'F') & (movielens_df['Age'] >= 30)].groupby('MovieID')[\"Rating\"].mean()\n",
    "avg_rating_women_30"
   ]
  },
  {
   "cell_type": "code",
   "execution_count": null,
   "metadata": {
    "id": "Vv3rWInc5ys1",
    "outputId": "401db1f3-b364-4254-ad92-e069d815fe09"
   },
   "outputs": [
    {
     "data": {
      "text/plain": [
       "<Axes: xlabel='Rating', ylabel='Count'>"
      ]
     },
     "execution_count": 26,
     "metadata": {},
     "output_type": "execute_result"
    },
    {
     "data": {
      "image/png": "[encoded data removed]",
      "text/plain": [
       "<Figure size 640x480 with 1 Axes>"
      ]
     },
     "metadata": {},
     "output_type": "display_data"
    }
   ],
   "source": [
    "sns.histplot(avg_rating_women_30, kde = True)"
   ]
  },
  {
   "cell_type": "markdown",
   "metadata": {
    "id": "Nkz8xZZe9Nc_"
   },
   "source": [
    "*------------------------\n",
    "\n",
    "# Problem 3: (20 points total)\n",
    "## Correlation:  Men versus women\n",
    "\n",
    "Let look more closely at the relationship between the pieces of data we have."
   ]
  },
  {
   "cell_type": "markdown",
   "metadata": {
    "id": "YI2aSPJL9NdB"
   },
   "source": [
    "* (2 points) Make a scatter plot of men versus women and their mean\n",
    "\n",
    "rating for every movie.\n",
    "* (2 points) Make a scatter plot of men versus women and their mean rating for movies rated more than 200 times.\n",
    "* (6 points) Compute the *correlation coefficent* between the ratings of men and women.\n",
    "    * What do you observe?\n",
    "    * Are the ratings similiar or not? Support your answer with data!\n",
    "* (10 points) Conjecture under what circumstances the rating given by one gender can be used to predict the rating given by the other gender.\n",
    "    * For example, are men and women more similar when they are younger or older?\n",
    "    * Be sure to come up with your own conjectures and support them with data!"
   ]
  },
  {
   "cell_type": "code",
   "execution_count": null,
   "metadata": {
    "id": "RmGoSgIq9NdB"
   },
   "outputs": [],
   "source": [
    "#-------------------------------\n",
    "# Your code goes here.\n",
    "# Add as many cells as you need\n",
    "#-------------------------------"
   ]
  },
  {
   "cell_type": "code",
   "execution_count": null,
   "metadata": {
    "id": "aZ91nXFJ3_i6",
    "outputId": "6f1a5582-65fa-49e3-c56a-591a63c082f0"
   },
   "outputs": [
    {
     "data": {
      "image/png": "[encoded data removed]",
      "text/plain": [
       "<Figure size 720x432 with 1 Axes>"
      ]
     },
     "metadata": {
      "needs_background": "light"
     },
     "output_type": "display_data"
    }
   ],
   "source": [
    "import pandas as pd\n",
    "import matplotlib.pyplot as plt\n",
    "\n",
    "\n",
    "\n",
    "# Group the data by 'MovieID' and 'Gender' and calculate the mean rating\n",
    "mean_ratings = movielens_df.groupby(['MovieID', 'Gender'])['Rating'].mean().unstack()\n",
    "\n",
    "# Create a scatter plot\n",
    "plt.figure(figsize=(10, 6))\n",
    "plt.scatter(mean_ratings['M'], mean_ratings['F'], alpha=0.5, marker='o', s=50, c='b', label='Men vs Women')\n",
    "plt.title('Mean Ratings for Men vs Women')\n",
    "plt.xlabel('Mean Rating for Men')\n",
    "plt.ylabel('Mean Rating for Women')\n",
    "plt.grid(True)\n",
    "plt.legend(loc='best')\n",
    "plt.show()\n"
   ]
  },
  {
   "cell_type": "markdown",
   "metadata": {
    "id": "i_H2Rnay3_i6"
   },
   "source": [
    "**Make a scatter plot of men versus women and their mean rating for movies rated more than 200 times**"
   ]
  },
  {
   "cell_type": "code",
   "execution_count": null,
   "metadata": {
    "id": "EkgtYbEL3_i6",
    "outputId": "7fd1351d-856e-4d27-8fdf-36905067d901"
   },
   "outputs": [
    {
     "data": {
      "image/png": "[encoded data removed]",
      "text/plain": [
       "<Figure size 720x432 with 1 Axes>"
      ]
     },
     "metadata": {
      "needs_background": "light"
     },
     "output_type": "display_data"
    }
   ],
   "source": [
    "# Group the data by 'MovieID' and 'Gender' and calculate the mean rating\n",
    "mean_ratings = movielens_df.groupby(['MovieID', 'Gender'])['Rating'].mean().unstack()\n",
    "\n",
    "# Calculate the count of ratings for each movie\n",
    "ratings_count = movielens_df.groupby('MovieID')['Rating'].count()\n",
    "\n",
    "# Filter movies with more than 200 ratings\n",
    "popular_movies = ratings_count[ratings_count > 200].index\n",
    "\n",
    "# Filter the mean ratings for popular movies\n",
    "mean_ratings = mean_ratings.loc[popular_movies]\n",
    "\n",
    "# Create a scatter plot\n",
    "plt.figure(figsize=(10, 6))\n",
    "plt.scatter(mean_ratings['M'], mean_ratings['F'], alpha=0.5, marker='o', s=50, c='b', label='Men vs Women (for movies > 200 ratings)')\n",
    "plt.title('Mean Ratings for Men vs Women (for movies > 200 ratings)')\n",
    "plt.xlabel('Mean Rating for Men')\n",
    "plt.ylabel('Mean Rating for Women')\n",
    "plt.grid(True)\n",
    "plt.legend(loc='best')\n",
    "plt.show()"
   ]
  },
  {
   "cell_type": "markdown",
   "metadata": {
    "id": "nOePRFcW3_i6"
   },
   "source": [
    "**Compute the correlation coefficent between the ratings of men and women.**"
   ]
  },
  {
   "cell_type": "code",
   "execution_count": null,
   "metadata": {
    "id": "9QBv_ORr3_i7"
   },
   "outputs": [],
   "source": [
    "avg_rating_men = movielens_df[(movielens_df['Gender'] == 'M')].groupby('MovieID')[\"Rating\"].mean()"
   ]
  },
  {
   "cell_type": "code",
   "execution_count": null,
   "metadata": {
    "id": "rxlZIYUD3_i7"
   },
   "outputs": [],
   "source": [
    "avg_rating_women = movielens_df[(movielens_df['Gender'] == 'F')].groupby('MovieID')[\"Rating\"].mean()"
   ]
  },
  {
   "cell_type": "code",
   "execution_count": null,
   "metadata": {
    "id": "SpgWiYdS3_i7",
    "outputId": "8d43e097-b3e6-43da-f4bd-70ee5768e0b1"
   },
   "outputs": [
    {
     "data": {
      "text/plain": [
       "0.7630757635162321"
      ]
     },
     "execution_count": 11,
     "metadata": {},
     "output_type": "execute_result"
    }
   ],
   "source": [
    "Corr_coef = avg_rating_men.corr(avg_rating_women)\n",
    "Corr_coef"
   ]
  },
  {
   "cell_type": "markdown",
   "metadata": {
    "id": "3s70FR1t3_i7"
   },
   "source": [
    "**Are the ratings similiar or not? Support your answer with data!**"
   ]
  },
  {
   "cell_type": "markdown",
   "metadata": {
    "id": "jBJUBgFv3_i7"
   },
   "source": [
    "The ratings of men and women are similar as they have a strong positive correlation coefficient of 0.76"
   ]
  },
  {
   "cell_type": "markdown",
   "metadata": {
    "id": "A6OJodwu3_i8"
   },
   "source": [
    "**Conjecture under what circumstances the rating given by one gender can be used to predict the rating given by the other gender.\n",
    "For example, are men and women more similar when they are younger or older?**"
   ]
  },
  {
   "cell_type": "code",
   "execution_count": null,
   "metadata": {
    "id": "eDuimXkU3_i8"
   },
   "outputs": [],
   "source": [
    "avg_rating_men_30 = movielens_df[(movielens_df['Gender'] == 'M') & (movielens_df['Age'] >= 30)].groupby('MovieID')[\"Rating\"].mean()\n",
    "avg_rating_men_above_30 = avg_rating_men_30 [:3279]"
   ]
  },
  {
   "cell_type": "code",
   "execution_count": null,
   "metadata": {
    "id": "6dEIxyWU3_i8"
   },
   "outputs": [],
   "source": [
    "avg_rating_women_above_30 = movielens_df[(movielens_df['Gender'] == 'F') & (movielens_df['Age'] >= 30)].groupby('MovieID')[\"Rating\"].mean()\n"
   ]
  },
  {
   "cell_type": "code",
   "execution_count": null,
   "metadata": {
    "id": "DYYEZbL03_i9",
    "outputId": "e10a3bd4-3476-450c-f41a-9efc14973321"
   },
   "outputs": [
    {
     "data": {
      "text/plain": [
       "0.6991563653479013"
      ]
     },
     "execution_count": 14,
     "metadata": {},
     "output_type": "execute_result"
    }
   ],
   "source": [
    "Corr_coef = avg_rating_men_above_30.corr(avg_rating_women_above_30)\n",
    "Corr_coef"
   ]
  },
  {
   "cell_type": "code",
   "execution_count": null,
   "metadata": {
    "id": "E9y582Hg3_i9"
   },
   "outputs": [],
   "source": [
    "avg_rating_men_below_30 = movielens_df[(movielens_df['Gender'] == 'M') & (movielens_df['Age'] < 30)].groupby('MovieID')[\"Rating\"].mean()\n",
    "avg_rating_men_below_30 = avg_rating_men_below_30[:3279]"
   ]
  },
  {
   "cell_type": "code",
   "execution_count": null,
   "metadata": {
    "id": "AFSNr-Oy3_i9"
   },
   "outputs": [],
   "source": [
    "avg_rating_women_below_30 = movielens_df[(movielens_df['Gender'] == 'F') & (movielens_df['Age'] <30)].groupby('MovieID')[\"Rating\"].mean()\n"
   ]
  },
  {
   "cell_type": "code",
   "execution_count": null,
   "metadata": {
    "id": "DCztNOdt3_i9",
    "outputId": "2021cc30-a571-4fe3-acf9-910f875ed540"
   },
   "outputs": [
    {
     "data": {
      "text/plain": [
       "0.711781740578392"
      ]
     },
     "execution_count": 17,
     "metadata": {},
     "output_type": "execute_result"
    }
   ],
   "source": [
    "Corr_coef = avg_rating_men_below_30.corr(avg_rating_women_below_30)\n",
    "Corr_coef"
   ]
  },
  {
   "cell_type": "markdown",
   "metadata": {
    "id": "G3fksJBc3_i-"
   },
   "source": [
    "Thus we can observe that the correlation coefficient of ratings of men and women below thirthy is higher than that of those above 30. So younger males and females have more similar ratings than the older ones"
   ]
  },
  {
   "cell_type": "markdown",
   "metadata": {
    "id": "fi1s2T2UC2Yw"
   },
   "source": [
    "OWN Conjecture"
   ]
  },
  {
   "cell_type": "markdown",
   "metadata": {
    "id": "3Nw15KTGEk2-"
   },
   "source": [
    "comparing the avg ratings of men and women based on genres and calculating the correlation coeffiecient.\n",
    "\n",
    "\n",
    "High Positive Correlation: If there's a high positive correlation between the ratings given by both genders for a specific type or genre of movies, it suggests a strong relationship. In such cases, the rating given by one gender might reasonably predict the rating given by the other gender. For instance, if men and women consistently give similar ratings to action movies, it might be possible to predict one gender's rating based on the other's.\n",
    "\n"
   ]
  },
  {
   "cell_type": "code",
   "execution_count": null,
   "metadata": {
    "id": "2HLbs0MB3_i-"
   },
   "outputs": [],
   "source": [
    "avg_rating_men_drama = movielens_df[(movielens_df['Gender'] == 'M') & (movielens_df['Genres'].str.contains('Drama', case=False))].groupby('MovieID')[\"Rating\"].mean()\n"
   ]
  },
  {
   "cell_type": "code",
   "execution_count": null,
   "metadata": {
    "id": "f69JxEMP3_i-"
   },
   "outputs": [],
   "source": [
    "avg_rating_women_drama = movielens_df[(movielens_df['Gender'] == 'F') & (movielens_df['Genres'].str.contains('Drama', case=False))].groupby('MovieID')[\"Rating\"].mean()\n"
   ]
  },
  {
   "cell_type": "code",
   "execution_count": null,
   "metadata": {
    "id": "erR-JCe53_i-"
   },
   "outputs": [],
   "source": [
    "avg_rating_men_comedy = movielens_df[(movielens_df['Gender'] == 'M') & (movielens_df['Genres'].str.contains('Comedy', case=False))].groupby('MovieID')[\"Rating\"].mean()\n"
   ]
  },
  {
   "cell_type": "code",
   "execution_count": null,
   "metadata": {
    "id": "y8FxDrPP3_i-"
   },
   "outputs": [],
   "source": [
    "avg_rating_women_comedy = movielens_df[(movielens_df['Gender'] == 'F') & (movielens_df['Genres'].str.contains('Comedy', case=False))].groupby('MovieID')[\"Rating\"].mean()\n"
   ]
  },
  {
   "cell_type": "code",
   "execution_count": null,
   "metadata": {
    "id": "QycuVtBS3_i_",
    "outputId": "eecda67b-03e1-4263-cbfb-7c178e460747"
   },
   "outputs": [
    {
     "data": {
      "text/plain": [
       "0.6364379184182789"
      ]
     },
     "execution_count": 22,
     "metadata": {},
     "output_type": "execute_result"
    }
   ],
   "source": [
    "Corr_coef = avg_rating_men_drama.corr(avg_rating_women_drama)\n",
    "Corr_coef"
   ]
  },
  {
   "cell_type": "code",
   "execution_count": null,
   "metadata": {
    "id": "51ACMBU63_i_",
    "outputId": "2e41b0ab-c7d7-44d0-acd9-8e6b385eb338"
   },
   "outputs": [
    {
     "data": {
      "text/plain": [
       "0.7975512312822656"
      ]
     },
     "execution_count": 23,
     "metadata": {},
     "output_type": "execute_result"
    }
   ],
   "source": [
    "Corr_coef = avg_rating_men_comedy.corr(avg_rating_women_comedy)\n",
    "Corr_coef"
   ]
  },
  {
   "cell_type": "markdown",
   "metadata": {
    "id": "yqYoFVFW3_i_"
   },
   "source": [
    "Men and women have more similar ratings for Comedy genre as compared to the Drama genre.\n",
    "\n",
    "Correlation coefficient for drama movies **(0.6364)**: This value suggests a moderately positive correlation between the average ratings given by men and women for drama movies. A correlation of 0.6364 indicates that there's a discernible, but not extremely strong, positive relationship between how men and women rate drama movies. As the average ratings by men tend to increase, there is a tendency for the average ratings by women to increase as well, but not in a perfectly linear manner. This suggests that there is a moderate level of agreement or consistency in how both genders rate drama films.\n",
    "\n",
    "Correlation coefficient for comedy movies **(0.7976)**: This value indicates a strong positive correlation between the average ratings given by men and women for comedy movies. A correlation of 0.7976 implies a clear and consistent relationship between how men and women rate comedy movies. As the average ratings by men increase, there is a higher tendency for the average ratings by women to also increase in a very consistent and linear manner. This suggests a stronger level of agreement or consistency in how both genders rate comedy films compared to dramas.\n",
    "\n",
    "Likewise, we can compute the correlation coefficient of all genres to check which genre has the most similar ratings for men and women"
   ]
  },
  {
   "cell_type": "markdown",
   "metadata": {
    "id": "bWUG4CYF9NdC"
   },
   "source": [
    "# Problem 4: (10 points total)\n",
    "## Open Ended Question:  Business Intelligence"
   ]
  },
  {
   "cell_type": "markdown",
   "metadata": {
    "id": "iFjgQV4x9NdC"
   },
   "source": [
    "* Do any of your conjectures in Problems 1, 2, and 3 provide insights that a movie company might be interested in?\n",
    "* Propose a business question that you think this data can answer.\n",
    "* Suppose you are a Data Scientist at a movie company.  **Convince your boss that your conjecture is correct!**\n",
    "\n",
    "####  \\~\\~ write here \\~\\~\n",
    "\n",
    "* Do any of your conjectures in Problems 1, 2, and 3 provide insights that a movie company might be interested in?\n",
    "\n",
    "**Insights from problem 1 :**\n",
    "\n",
    "The insight derived from this conjecture is that a movie company might consider that catering to older audiences can be equally, if not more, rewarding in terms of satisfaction and positive reception. Creating content that resonates with older demographics could yield favorable reviews and ratings. While targeting younger audiences is often a popular strategy, this data implies that there's a significant audience base among older individuals that appreciates and enjoys movies, and tailoring content to their preferences might yield successful outcomes. This insight can guide a movie company's content creation and marketing strategies, emphasizing the importance of appealing to diverse age groups to maximize positive reception and ratings.\n",
    "\n",
    "**Insights from problem 2 :**\n",
    "\n",
    "Children are more likely to give extreme ratings to movies and TV shows than older people ,39% of young genration ages 1-10 ,  they had given a movie a rating of 5 stars , compared to only 23% of Americans ages 65 and older. by these insight that children are more likely to give extreme ratings to movies and TV shows than older people suggests opportunities for movie companies to target and engage with a younger audience, diversify their content, and use this information to refine their marketing and content strategies to maximize viewer satisfaction and success.\n",
    "\n",
    "**Insights from problem 3 :**\n",
    "\n",
    "Identifying Universally Appealing Genres: Genres with higher correlation coefficients between men and women, such as Comedy and potentially other genres with strong agreement in ratings, indicate movies with more universal appeal. A movie company might focus on creating content in these genres as they are more likely to attract a broad audience, irrespective of gender differences.\n",
    "\n",
    "* Propose a business question that you think this data can answer.\n",
    "\n",
    "One possible business question that could be addressed using the insights derived from the data on movie ratings:\n",
    "\n",
    "**\"How can a movie company strategically diversify its content portfolio to cater to a broader demographic while maximizing viewer satisfaction and success?\"**\n",
    "\n",
    "This question aims to leverage the various insights obtained from the data, such as the age-based differences in rating tendencies, the distinct preferences of different age groups, and the genres that have a more universal appeal. By considering these insights, a movie company can strategize to expand its content offerings to reach a wider audience while ensuring high viewer satisfaction.\n",
    "\n",
    "\n",
    "* Suppose you are a Data Scientist at a movie company.  **Convince your boss that your conjecture is correct!**\n",
    "\n",
    "\n",
    "By capitalizing on the insights gained from our data analysis, I strongly believe that a strategic shift to tailor content to older audiences, alongside our existing strategy for younger demographics, will lead to increased market success, audience satisfaction, and sustained growth for our company. This balanced approach ensures that our content caters to a broader demographic, maximizing positive reception and ratings across age groups."
   ]
  },
  {
   "cell_type": "markdown",
   "metadata": {
    "id": "taGJWTCM9NdC"
   },
   "source": [
    "# Report: communicate the results (15 points)\n",
    "\n",
    "Open ended. Should at least dicuss the following:\n",
    "\n",
    "* What is the relationship between this topic and Business Intelligence?\n",
    "    * How did you analyse the data?\n",
    "    * What did you find in the data?\n",
    "    * What conjectures did you make and how did you support or disprove them using data?\n",
    "    * Did you find anything suprising in the data?\n",
    "    * What business decision do you think this data could help answer? Why?\n",
    "    * The story of the group: How did each member help the group? This section should appear at the end and can essentially tell a story of how the case study started, the issues faced, how each member played a role and helped solve specific problems. ETC. ETC.\n",
    "    \n",
    "**Note**: Please include figures or tables in the report (**but no source code**). Should be minimum 8 pages."
   ]
  },
  {
   "cell_type": "markdown",
   "metadata": {
    "id": "jurXvg319NdC"
   },
   "source": [
    "# Slides (for 10 minutes of presentation) (15 points)\n",
    "\n",
    "\n",
    "1. (3 points) Motivation about the data collection, why the topic is interesting to you.\n",
    "\n",
    "2. (8 points) Communicating Results (figure/table)\n",
    "\n",
    "3. (4 points) Story telling (How all the parts (data, analysis, result) fit together as a story?)'\n",
    "\n",
    "**Note**: Three teams will be randomly chosen to present in the class."
   ]
  },
  {
   "cell_type": "markdown",
   "metadata": {
    "id": "oDOiHynW9NdC"
   },
   "source": [
    "# Done\n",
    "\n",
    "All set!\n",
    "\n",
    "**What do you need to submit?**\n",
    "\n",
    "* **Notebook File**: Save this IPython notebook, and find the notebook file in your folder (for example, \"groupname.ipynb\"). This is the file you need to submit. Please make sure all the plotted tables and figures are in the notebook.\n",
    "\n",
    "* **PPT Slides**\n",
    "\n",
    "* **Report**\n",
    "\n",
    "Put the Jupyter Notebook file, the report (in PDF) and PPT slides (converted to PDF) in a folder. Zip the folder. After zipping, it should have the extension .zip. The name of the .zip file should be casestudy_3_groupname.zip. Upload the .zip file on Canvas.\n",
    "        \n",
    "**Note: Each team just needs to make one submission**"
   ]
  }
 ],
 "metadata": {
  "anaconda-cloud": {},
  "colab": {
   "provenance": []
  },
  "kernelspec": {
   "display_name": "Python 3",
   "language": "python",
   "name": "python3"
  },
  "language_info": {
   "codemirror_mode": {
    "name": "ipython",
    "version": 3
   },
   "file_extension": ".py",
   "mimetype": "text/x-python",
   "name": "python",
   "nbconvert_exporter": "python",
   "pygments_lexer": "ipython3",
   "version": "3.9.1"
  }
 },
 "nbformat": 4,
 "nbformat_minor": 1
}
